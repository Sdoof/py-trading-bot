{
 "cells": [
  {
   "cell_type": "code",
   "execution_count": 2,
   "id": "0209edb2-d39f-43a4-af7d-dc6817d68871",
   "metadata": {},
   "outputs": [],
   "source": [
    "## To backstage the strategies using historical and pre-saved data\n",
    "import sys\n",
    "sys.path.append(\"..\")\n",
    "\n",
    "import vectorbtpro as vbt\n",
    "import numpy as np\n",
    "import pandas as pd\n",
    "\n",
    "import importlib\n",
    "import inspect\n",
    "from numba import njit\n",
    "import talib\n",
    "import math\n",
    "\n",
    "from core import strat, indicators\n",
    "from core import data_manager\n"
   ]
  },
  {
   "cell_type": "code",
   "execution_count": 35,
   "id": "e5875e4b-89a8-4dc6-ab25-ce8fedc34b34",
   "metadata": {},
   "outputs": [
    {
     "data": {
      "application/vnd.jupyter.widget-view+json": {
       "model_id": "7743eed6e08f43608596390d2a60b8eb",
       "version_major": 2,
       "version_minor": 0
      },
      "text/plain": [
       "  0%|          | 0/70 [00:00<?, ?it/s]"
      ]
     },
     "metadata": {},
     "output_type": "display_data"
    }
   ],
   "source": [
    "importlib.reload(indicators)\n",
    "importlib.reload(strat)\n",
    "importlib.reload(data_manager)\n",
    "st=strat.Strat(\"NASDAQ\",\"2007_2023\",\"test\") #,index\n"
   ]
  },
  {
   "cell_type": "code",
   "execution_count": 36,
   "id": "7c0c35f0-47d6-43d9-bfa7-b2ae83f6f134",
   "metadata": {},
   "outputs": [],
   "source": [
    "###No trend ###\n",
    "#st.strat_kama_stoch(macro_trend_uncertain=\"both\")\n",
    "#st.strat_pattern_light(macro_trend_uncertain=\"both\")\n",
    "\n",
    "### Trend ###\n",
    "#st.strat_kama_stoch_matrend_bbands()\n",
    "#st.strat_kama_stoch_super_bbands()\n",
    "#st.strat_kama_stoch_matrend_macdbb()\n",
    "#st.strat_kama_stoch_super_macdbb()\n",
    "#st.strat_pattern_light_matrend_bbands()\n",
    "#st.strat_pattern_light_super_bbands()\n",
    "#st.strat_pattern_light_matrend_macdbb()\n",
    "#st.strat_pattern_light_super_macdbb()\n",
    "\n",
    "#st.strat_careful_super_bbands()\n",
    "\n",
    "### Macro trend ###\n",
    "#st.strat_kama_stoch_matrend_bbands_macro(macro_trend_bull=\"long\",macro_trend_uncertain=\"both\",macro_trend_bear=\"both\") # macro_trend_index=True\n",
    "#st.strat_kama_stoch_matrend_macdbb_macro(macro_trend_bull=\"long\",macro_trend_uncertain=\"long\",macro_trend_bear=\"both\")\n",
    "#st.strat_kama_stoch_macro(macro_trend_bull=\"long\",macro_trend_uncertain=\"long\",macro_trend_bear=\"both\")\n",
    "#st.strat_pattern_light_macro(macro_trend_bull=\"long\",macro_trend_uncertain=\"both\",macro_trend_bear=\"both\")\n",
    "\n",
    "### Macro trend using arr ###\n",
    "#st.stratD()\n",
    "#st.stratE()\n",
    "st.stratG()\n",
    "#st.stratF()\n",
    "#st.stratDbear()\n",
    "#st.stratRSI()"
   ]
  },
  {
   "cell_type": "code",
   "execution_count": null,
   "id": "9ceeca3e-f75d-444d-b7e5-62fb5e533356",
   "metadata": {},
   "outputs": [],
   "source": []
  },
  {
   "cell_type": "code",
   "execution_count": 37,
   "id": "6d43afe6-2105-4c7b-80a5-d464b1f0322c",
   "metadata": {},
   "outputs": [
    {
     "name": "stderr",
     "output_type": "stream",
     "text": [
      "/home/maxime/.local/lib/python3.8/site-packages/vectorbtpro/portfolio/base.py:10298: UserWarning:\n",
      "\n",
      "Object has multiple columns. Aggregated some metrics using <function mean at 0x7f84b4017700>. Pass column to select a single column/group.\n",
      "\n"
     ]
    },
    {
     "data": {
      "text/plain": [
       "Start                           2007-01-03 00:00:00+00:00\n",
       "End                             2022-12-30 00:00:00+00:00\n",
       "Period                                 4028 days 00:00:00\n",
       "Total Return [%]                              1988.745757\n",
       "Benchmark Return [%]                          1210.291929\n",
       "Annualized Return [%]                           12.744245\n",
       "Annualized Volatility [%]                       42.551286\n",
       "Max Drawdown [%]                                63.860045\n",
       "Max Drawdown Duration        1259 days 23:18:51.428571424\n",
       "Sharpe Ratio                                     0.611499\n",
       "Calmar Ratio                                     0.216342\n",
       "Omega Ratio                                      1.101107\n",
       "Sortino Ratio                                    0.900985\n",
       "Skew                                             0.250588\n",
       "Kurtosis                                        13.796163\n",
       "Tail Ratio                                       1.027197\n",
       "Common Sense Ratio                                1.16084\n",
       "Value at Risk                                   -0.031918\n",
       "Alpha                                            0.035459\n",
       "Beta                                             0.807831\n",
       "Name: agg_stats, dtype: object"
      ]
     },
     "execution_count": 37,
     "metadata": {},
     "output_type": "execute_result"
    }
   ],
   "source": [
    "pf=vbt.Portfolio.from_signals(st.close, st.entries,st.exits,\n",
    "                              short_entries=st.entries_short,short_exits  =st.exits_short,\n",
    "                              freq=\"1d\")\n",
    "\n",
    "pf.returns_stats()\n",
    "#pf.returns_stats(column=pf.wrapper.columns[0])\n",
    "#pf.stats(column=pf.wrapper.columns[0])"
   ]
  },
  {
   "cell_type": "code",
   "execution_count": 31,
   "id": "345779e0-2944-4c59-9f8a-a9e24028ea50",
   "metadata": {},
   "outputs": [
    {
     "name": "stderr",
     "output_type": "stream",
     "text": [
      "/tmp/ipykernel_84901/3705677322.py:1: UserWarning:\n",
      "\n",
      "Object has multiple columns. Aggregated some metrics using <function mean at 0x7f84b4017700>. Pass column to select a single column/group.\n",
      "\n"
     ]
    },
    {
     "data": {
      "text/plain": [
       "Start                           2013-07-11 00:00:00+00:00\n",
       "End                             2022-12-30 00:00:00+00:00\n",
       "Period                                 2399 days 00:00:00\n",
       "Start Value                                         100.0\n",
       "Min Value                                       82.430149\n",
       "Max Value                                      467.310247\n",
       "End Value                                       331.24687\n",
       "Total Return [%]                                231.24687\n",
       "Benchmark Return [%]                            168.19625\n",
       "Total Time Exposure [%]                         99.454074\n",
       "Max Gross Exposure [%]                         128.254242\n",
       "Max Drawdown [%]                                52.573006\n",
       "Max Drawdown Duration         859 days 17:01:56.129032256\n",
       "Total Orders                                    77.451613\n",
       "Total Fees Paid                                       0.0\n",
       "Total Trades                                    77.258065\n",
       "Win Rate [%]                                    47.976708\n",
       "Best Trade [%]                                  84.551527\n",
       "Worst Trade [%]                                -22.953551\n",
       "Avg Winning Trade [%]                            8.675531\n",
       "Avg Losing Trade [%]                            -4.167393\n",
       "Avg Winning Trade Duration     49 days 04:09:19.849188625\n",
       "Avg Losing Trade Duration      19 days 01:09:27.494469638\n",
       "Profit Factor                                    1.562293\n",
       "Expectancy                                       3.356718\n",
       "Sharpe Ratio                                     0.503911\n",
       "Calmar Ratio                                       0.2015\n",
       "Omega Ratio                                      1.080974\n",
       "Sortino Ratio                                    0.738168\n",
       "Name: agg_stats, dtype: object"
      ]
     },
     "execution_count": 31,
     "metadata": {},
     "output_type": "execute_result"
    }
   ],
   "source": [
    "pf.stats()"
   ]
  },
  {
   "cell_type": "code",
   "execution_count": 51,
   "id": "8189cade-5ce4-4727-8298-ebff30191009",
   "metadata": {},
   "outputs": [
    {
     "data": {
      "text/plain": [
       "macro_mode_macro_trend_bull  macro_mode_macro_trend_bear  macro_mode_macro_trend_uncertain  macro_filter_mode  macro_filter_mode  macro_filter_mode  symbol\n",
       "long                         both                         both                              -1                 1                  0                  AAPL      147.983896\n",
       "                                                                                                                                                     ADBE       12.251919\n",
       "                                                                                                                                                     ADI         5.620796\n",
       "                                                                                                                                                     ADP         3.052369\n",
       "                                                                                                                                                     ADSK       -0.397111\n",
       "                                                                                                                                                     AEP         0.813320\n",
       "                                                                                                                                                     ALGN        1.888474\n",
       "                                                                                                                                                     AMAT        4.300043\n",
       "                                                                                                                                                     AMD        -0.603595\n",
       "                                                                                                                                                     AMGN        0.149458\n",
       "                                                                                                                                                     AMZN       80.397260\n",
       "                                                                                                                                                     ANSS       21.007523\n",
       "                                                                                                                                                     ASML       28.119581\n",
       "                                                                                                                                                     ATVI        2.611964\n",
       "                                                                                                                                                     BIDU      105.117143\n",
       "Name: total_return, dtype: float64"
      ]
     },
     "execution_count": 51,
     "metadata": {},
     "output_type": "execute_result"
    }
   ],
   "source": [
    "pf.get_total_return().head(15)"
   ]
  },
  {
   "cell_type": "code",
   "execution_count": 54,
   "id": "48314535-04e4-43e8-ae5c-49ef5971274d",
   "metadata": {},
   "outputs": [
    {
     "data": {
      "text/plain": [
       "('long', 'both', 'both', -1, 1, 0, 'AMZN')"
      ]
     },
     "execution_count": 54,
     "metadata": {},
     "output_type": "execute_result"
    }
   ],
   "source": [
    "pf.wrapper.columns[10]"
   ]
  },
  {
   "cell_type": "code",
   "execution_count": 55,
   "id": "88829b2d-463d-4b79-b75c-34158c3e0237",
   "metadata": {},
   "outputs": [
    {
     "data": {
      "application/vnd.jupyter.widget-view+json": {
       "model_id": "a5d7d915ec4846b2b11c68eecb8e63e4",
       "version_major": 2,
       "version_minor": 0
      },
      "text/plain": [
       "FigureWidget({\n",
       "    'data': [{'legendgroup': '0',\n",
       "              'line': {'color': '#1f77b4'},\n",
       "              'mo…"
      ]
     },
     "metadata": {},
     "output_type": "display_data"
    }
   ],
   "source": [
    "#pf.plot()\n",
    "pf.plot(column=pf.wrapper.columns[10])"
   ]
  },
  {
   "cell_type": "code",
   "execution_count": 26,
   "id": "36419b3d-d6cc-4bf7-b488-41a97bbb0249",
   "metadata": {},
   "outputs": [
    {
     "data": {
      "text/plain": [
       "Timestamp('2019-01-09 00:00:00+0000', tz='UTC')"
      ]
     },
     "execution_count": 26,
     "metadata": {},
     "output_type": "execute_result"
    }
   ],
   "source": [
    "st.close.index[3070]"
   ]
  },
  {
   "cell_type": "code",
   "execution_count": 59,
   "id": "b6d06701-9e8d-469b-9116-e1cd9827b414",
   "metadata": {},
   "outputs": [
    {
     "data": {
      "text/plain": [
       "Start                          2018-10-31 00:00:00+00:00\n",
       "End                            2021-12-30 00:00:00+00:00\n",
       "Period                                 800 days 00:00:00\n",
       "Total Return [%]                               41.910258\n",
       "Benchmark Return [%]                           44.996537\n",
       "Annualized Return [%]                          10.242125\n",
       "Annualized Volatility [%]                      38.424697\n",
       "Max Drawdown [%]                               46.522338\n",
       "Max Drawdown Duration        345 days 09:23:28.695652172\n",
       "Sharpe Ratio                                    0.559804\n",
       "Calmar Ratio                                    0.263874\n",
       "Omega Ratio                                     1.092212\n",
       "Sortino Ratio                                   0.808886\n",
       "Skew                                           -0.198601\n",
       "Kurtosis                                        8.575203\n",
       "Tail Ratio                                      1.043197\n",
       "Common Sense Ratio                              1.151678\n",
       "Value at Risk                                  -0.028623\n",
       "Alpha                                             0.0242\n",
       "Beta                                              0.8957\n",
       "Name: agg_stats, dtype: object"
      ]
     },
     "execution_count": 59,
     "metadata": {},
     "output_type": "execute_result"
    }
   ],
   "source": [
    "start_ind=3000\n",
    "end_ind=4000\n",
    "pf=vbt.Portfolio.from_signals(st.close[start_ind:end_ind], st.entries[start_ind:end_ind],st.exits[start_ind:end_ind],\n",
    "                              short_entries=st.entries_short[start_ind:end_ind],short_exits  =st.exits_short[start_ind:end_ind],\n",
    "                              freq=\"1d\")\n",
    "\n",
    "pf.returns_stats()"
   ]
  },
  {
   "cell_type": "code",
   "execution_count": null,
   "id": "6b5e040e-95c5-4a6c-a8ea-79b7ed7043ac",
   "metadata": {},
   "outputs": [],
   "source": [
    "from core.strat import Strat, strat_wrapper_macro\n",
    "\n",
    "#to test strats from opt\n",
    "class Tstrat(Strat):\n",
    "    def stratT(self,**kwargs):\n",
    "        a_bull=[0, 0, 0, 0, 0, 0, 0, 0, 0, 0, 0, 0, 0, 0, 0, 0, 1, 0, 0, 0, 1, 0,\n",
    "       0, 0, 0, 0, 0, 0, 0, 0, 0, 0, 0, 0, 0, 1, 0, 1, 0, 0, 0, 0, 0, 0]\n",
    "        a_bear=[0, 0, 0, 0, 0, 0, 1, 0, 0, 0, 0, 1, 1, 1, 0, 0, 0, 1, 1, 0, 0, 1,\n",
    "       0, 0, 0, 0, 1, 0, 1, 0, 0, 0, 0, 0, 1, 0, 0, 0, 0, 1, 0, 1, 0, 0]\n",
    "        a_uncertain=[1, 1, 1, 1, 0, 1, 0, 0, 0, 0, 0, 0, 1, 1, 1, 0, 0, 1, 1, 0, 0, 0,\n",
    "       0, 0, 0, 0, 0, 1, 0, 0, 0, 0, 0, 0, 1, 1, 0, 1, 1, 0, 0, 0, 0, 0]\n",
    "        \n",
    "        \n",
    "        self.entries, self.exits, self.entries_short, self.exits_short, \\\n",
    "        self.macro_trend, self.min_ind, self.max_ind=\\\n",
    "        strat_wrapper_macro(\n",
    "                            self.open,\n",
    "                            self.high, \n",
    "                            self.low,\n",
    "                            self.close,\n",
    "                            #self.close_ind,\n",
    "                            a_bull, \n",
    "                            a_bear, \n",
    "                            a_uncertain,\n",
    "                            **kwargs) "
   ]
  },
  {
   "cell_type": "code",
   "execution_count": null,
   "id": "f941a280-fb43-40e9-92df-32ff462c24f0",
   "metadata": {},
   "outputs": [],
   "source": [
    "\n"
   ]
  },
  {
   "cell_type": "code",
   "execution_count": null,
   "id": "260ab8c7-8c95-4ae8-8738-3c86fd7ba392",
   "metadata": {},
   "outputs": [],
   "source": []
  },
  {
   "cell_type": "code",
   "execution_count": null,
   "id": "796df45d-1a2d-47ec-ac28-a975361be20d",
   "metadata": {},
   "outputs": [],
   "source": []
  },
  {
   "cell_type": "code",
   "execution_count": null,
   "id": "9718be22-1535-4245-b04e-cd379bd65119",
   "metadata": {},
   "outputs": [],
   "source": []
  },
  {
   "cell_type": "code",
   "execution_count": null,
   "id": "283ad825-46ee-4746-8f38-1da191f49137",
   "metadata": {},
   "outputs": [],
   "source": []
  },
  {
   "cell_type": "code",
   "execution_count": null,
   "id": "79dd3749-1ca9-4ecd-990a-04446bddbf77",
   "metadata": {},
   "outputs": [],
   "source": []
  },
  {
   "cell_type": "code",
   "execution_count": null,
   "id": "2c4e8df0-518c-4cac-bf17-1237367e48d1",
   "metadata": {},
   "outputs": [],
   "source": []
  }
 ],
 "metadata": {
  "kernelspec": {
   "display_name": "Python 3 (ipykernel)",
   "language": "python",
   "name": "python3"
  },
  "language_info": {
   "codemirror_mode": {
    "name": "ipython",
    "version": 3
   },
   "file_extension": ".py",
   "mimetype": "text/x-python",
   "name": "python",
   "nbconvert_exporter": "python",
   "pygments_lexer": "ipython3",
   "version": "3.8.10"
  }
 },
 "nbformat": 4,
 "nbformat_minor": 5
}
