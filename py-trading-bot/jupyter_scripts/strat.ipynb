{
 "cells": [
  {
   "cell_type": "code",
   "execution_count": 1,
   "id": "0209edb2-d39f-43a4-af7d-dc6817d68871",
   "metadata": {},
   "outputs": [],
   "source": [
    "## To backstage the strategies using historical and pre-saved data\n",
    "\n",
    "import vectorbtpro as vbt\n",
    "import numpy as np\n",
    "import pandas as pd\n",
    "\n",
    "import importlib\n",
    "import inspect\n",
    "from numba import njit\n",
    "import talib\n",
    "import math\n",
    "\n",
    "from core import strat, indicators\n",
    "from core import data_manager\n"
   ]
  },
  {
   "cell_type": "code",
   "execution_count": 2,
   "id": "e5875e4b-89a8-4dc6-ab25-ce8fedc34b34",
   "metadata": {},
   "outputs": [
    {
     "data": {
      "application/vnd.jupyter.widget-view+json": {
       "model_id": "f64869f881844bae97bb174170500357",
       "version_major": 2,
       "version_minor": 0
      },
      "text/plain": [
       "  0%|          | 0/23 [00:00<?, ?it/s]"
      ]
     },
     "metadata": {},
     "output_type": "display_data"
    }
   ],
   "source": [
    "importlib.reload(indicators)\n",
    "importlib.reload(strat)\n",
    "importlib.reload(data_manager)\n",
    "st=strat.Strat(\"DAX\",\"2007_2022\",\"test\") #,index\n"
   ]
  },
  {
   "cell_type": "code",
   "execution_count": 3,
   "id": "7c0c35f0-47d6-43d9-bfa7-b2ae83f6f134",
   "metadata": {},
   "outputs": [
    {
     "name": "stdout",
     "output_type": "stream",
     "text": [
      "close\n",
      "symbol                            ADS         AIR         ALV        BAS  \\\n",
      "Date                                                                       \n",
      "2007-01-02 00:00:00+00:00   29.457882   19.362616   79.235008  17.347332   \n",
      "2007-01-03 00:00:00+00:00   29.551128   19.193604   79.751442  17.266184   \n",
      "2007-01-04 00:00:00+00:00   29.372406   18.877632   80.728584  17.078382   \n",
      "2007-01-05 00:00:00+00:00   28.983879   18.855589   79.589424  16.960133   \n",
      "2007-01-08 00:00:00+00:00   29.123747   18.752714   79.710930  16.913769   \n",
      "...                               ...         ...         ...        ...   \n",
      "2021-12-23 00:00:00+00:00  247.294113  110.257355  196.531250  56.727203   \n",
      "2021-12-27 00:00:00+00:00  248.324921  110.848877  197.053436  57.156178   \n",
      "2021-12-28 00:00:00+00:00  250.337433  111.953018  198.572510  57.538525   \n",
      "2021-12-29 00:00:00+00:00  249.453903  110.513680  197.575623  57.324036   \n",
      "2021-12-30 00:00:00+00:00  248.570343  110.139061  197.148376  57.613125   \n",
      "\n",
      "symbol                          BAYN        BEI        BMW        CON  \\\n",
      "Date                                                                    \n",
      "2007-01-02 00:00:00+00:00  24.830750  39.926544  24.948402  60.155617   \n",
      "2007-01-03 00:00:00+00:00  24.945118  40.014122  25.090803  60.074280   \n",
      "2007-01-04 00:00:00+00:00  24.842791  40.276848  24.857265  59.626865   \n",
      "2007-01-05 00:00:00+00:00  24.541805  39.448864  24.828789  59.450607   \n",
      "2007-01-08 00:00:00+00:00  24.228792  39.456829  24.521210  58.623589   \n",
      "...                              ...        ...        ...        ...   \n",
      "2021-12-23 00:00:00+00:00  45.142487  89.352753  82.882790  90.712944   \n",
      "2021-12-27 00:00:00+00:00  45.592701  89.412315  83.654266  90.838615   \n",
      "2021-12-28 00:00:00+00:00  45.650795  90.047569  83.607788  91.205956   \n",
      "2021-12-29 00:00:00+00:00  45.457153  90.385048  82.910675  90.181274   \n",
      "2021-12-30 00:00:00+00:00  45.505566  89.710091  82.250732  90.007278   \n",
      "\n",
      "symbol                            DB1        DBK  ...        FRE        HEI  \\\n",
      "Date                                              ...                         \n",
      "2007-01-02 00:00:00+00:00   93.331268  57.084072  ...  13.897651  75.269974   \n",
      "2007-01-03 00:00:00+00:00   91.881950  57.333744  ...  13.984162  74.842903   \n",
      "2007-01-04 00:00:00+00:00   91.633858  57.339283  ...  14.177235  74.102234   \n",
      "2007-01-05 00:00:00+00:00   90.093147  56.618034  ...  13.829343  74.082199   \n",
      "2007-01-08 00:00:00+00:00   91.366203  56.318436  ...  13.865769  74.269051   \n",
      "...                               ...        ...  ...        ...        ...   \n",
      "2021-12-23 00:00:00+00:00  145.800003  11.192000  ...  35.009998  56.553436   \n",
      "2021-12-27 00:00:00+00:00  146.149994  11.224000  ...  35.150002  56.935040   \n",
      "2021-12-28 00:00:00+00:00  147.649994  11.274000  ...  35.380001  57.202160   \n",
      "2021-12-29 00:00:00+00:00  146.500000  11.112000  ...  35.494999  57.106762   \n",
      "2021-12-30 00:00:00+00:00  147.100006  11.018000  ...  35.400002  56.782398   \n",
      "\n",
      "symbol                           IFX         MRK         MTX         PUM  \\\n",
      "Date                                                                       \n",
      "2007-01-02 00:00:00+00:00   8.074751   30.275517   26.391005   26.191261   \n",
      "2007-01-03 00:00:00+00:00   8.158072   30.563272   26.493042   26.084091   \n",
      "2007-01-04 00:00:00+00:00   8.195948   32.558674   26.310837   25.555210   \n",
      "2007-01-05 00:00:00+00:00   8.105049   32.751778   25.982864   25.268555   \n",
      "2007-01-08 00:00:00+00:00   8.241396   32.297421   25.931843   25.102137   \n",
      "...                              ...         ...         ...         ...   \n",
      "2021-12-23 00:00:00+00:00  39.656029  222.899506  178.998947  104.387749   \n",
      "2021-12-27 00:00:00+00:00  40.583218  225.670898  179.246185  104.437180   \n",
      "2021-12-28 00:00:00+00:00  40.657593  227.056595  179.691208  105.573982   \n",
      "2021-12-29 00:00:00+00:00  40.146896  226.561707  177.762772  105.821114   \n",
      "2021-12-30 00:00:00+00:00  40.419598  224.681122  177.416626  106.265938   \n",
      "\n",
      "symbol                           RWE         SIE         SY1        VOW3  \n",
      "Date                                                                      \n",
      "2007-01-02 00:00:00+00:00  40.822346   44.151287   14.327026   37.711678  \n",
      "2007-01-03 00:00:00+00:00  40.841450   43.907063   14.327026   37.947586  \n",
      "2007-01-04 00:00:00+00:00  40.029308   43.930325   14.327026   37.098324  \n",
      "2007-01-05 00:00:00+00:00  38.457569   43.796593   14.459279   38.014996  \n",
      "2007-01-08 00:00:00+00:00  38.653439   43.872177   14.547441   37.738647  \n",
      "...                              ...         ...         ...         ...  \n",
      "2021-12-23 00:00:00+00:00  34.279541  146.066833  126.316116  167.767487  \n",
      "2021-12-27 00:00:00+00:00  34.044880  146.630798  126.861008  169.209015  \n",
      "2021-12-28 00:00:00+00:00  34.641304  148.594955  128.991043  170.081528  \n",
      "2021-12-29 00:00:00+00:00  34.621746  147.583710  129.337799  168.052002  \n",
      "2021-12-30 00:00:00+00:00  34.924847  148.458817  129.090118  168.317551  \n",
      "\n",
      "[3800 rows x 23 columns]\n",
      "CDLKICKINGBYLENGTH\n",
      "CDLKICKING\n",
      "CDLMARUBOZU\n",
      "CDLCLOSINGMARUBOZU\n",
      "CDL3WHITESOLDIERS\n",
      "CDLLONGLINE\n",
      "CDLENGULFING\n",
      "CDLDRAGONFLYDOJI\n",
      "CDLTAKURI\n",
      "CDLMORNINGDOJISTAR\n",
      "CDLMORNINGSTAR\n",
      "CDLHANGINGMAN\n",
      "CDL3INSIDE\n",
      "CDLKICKINGBYLENGTH_INV\n",
      "CDLKICKING_INV\n"
     ]
    }
   ],
   "source": [
    "###No trend ###\n",
    "#st.strat_kama_stoch(macro_trend_uncertain=\"both\")\n",
    "#st.strat_pattern_light(macro_trend_uncertain=\"both\")\n",
    "\n",
    "### Trend ###\n",
    "#st.strat_kama_stoch_matrend_bbands()\n",
    "#st.strat_kama_stoch_super_bbands()\n",
    "#st.strat_kama_stoch_matrend_macdbb()\n",
    "#st.strat_kama_stoch_super_macdbb()\n",
    "#st.strat_pattern_light_matrend_bbands()\n",
    "#st.strat_pattern_light_super_bbands()\n",
    "#st.strat_pattern_light_matrend_macdbb()\n",
    "#st.strat_pattern_light_super_macdbb()\n",
    "\n",
    "#st.strat_careful_super_bbands()\n",
    "\n",
    "### Macro trend ###\n",
    "#st.strat_kama_stoch_matrend_bbands_macro(macro_trend_bull=\"long\",macro_trend_uncertain=\"both\",macro_trend_bear=\"both\") # macro_trend_index=True\n",
    "#st.strat_kama_stoch_matrend_macdbb_macro(macro_trend_bull=\"long\",macro_trend_uncertain=\"long\",macro_trend_bear=\"both\")\n",
    "#st.strat_kama_stoch_macro(macro_trend_bull=\"long\",macro_trend_uncertain=\"long\",macro_trend_bear=\"both\")\n",
    "#st.strat_pattern_light_macro(macro_trend_bull=\"long\",macro_trend_uncertain=\"both\",macro_trend_bear=\"both\")\n",
    "\n",
    "### Macro trend using arr ###\n",
    "st.stratD()\n",
    "#st.stratE()\n",
    "\n",
    "#st.stratDbear()\n"
   ]
  },
  {
   "cell_type": "code",
   "execution_count": null,
   "id": "9ceeca3e-f75d-444d-b7e5-62fb5e533356",
   "metadata": {},
   "outputs": [],
   "source": []
  },
  {
   "cell_type": "code",
   "execution_count": 4,
   "id": "6d43afe6-2105-4c7b-80a5-d464b1f0322c",
   "metadata": {},
   "outputs": [
    {
     "name": "stderr",
     "output_type": "stream",
     "text": [
      "/home/maxime/.local/lib/python3.8/site-packages/vectorbtpro/portfolio/base.py:9537: UserWarning: Object has multiple columns. Aggregated some metrics using <function mean at 0x7fb618042820>. Pass column to select a single column/group.\n",
      "  return getattr(returns_acc, \"stats\")(**kwargs)\n"
     ]
    },
    {
     "data": {
      "text/plain": [
       "Start                           2007-01-02 00:00:00+00:00\n",
       "End                             2021-12-30 00:00:00+00:00\n",
       "Period                                 3800 days 00:00:00\n",
       "Total Return [%]                               675.901179\n",
       "Benchmark Return [%]                           266.776427\n",
       "Annualized Return [%]                            9.288092\n",
       "Annualized Volatility [%]                       38.617615\n",
       "Max Drawdown [%]                                68.286914\n",
       "Max Drawdown Duration        1572 days 01:02:36.521739136\n",
       "Sharpe Ratio                                     0.503725\n",
       "Calmar Ratio                                      0.15021\n",
       "Omega Ratio                                      1.082262\n",
       "Sortino Ratio                                    0.744101\n",
       "Skew                                             0.318952\n",
       "Kurtosis                                        12.007485\n",
       "Tail Ratio                                       1.043523\n",
       "Common Sense Ratio                               1.144302\n",
       "Value at Risk                                   -0.029288\n",
       "Alpha                                             0.05875\n",
       "Beta                                             0.824239\n",
       "Name: agg_stats, dtype: object"
      ]
     },
     "execution_count": 4,
     "metadata": {},
     "output_type": "execute_result"
    }
   ],
   "source": [
    "pf=vbt.Portfolio.from_signals(st.close, st.entries,st.exits,\n",
    "                              short_entries=st.entries_short,short_exits  =st.exits_short,\n",
    "                              freq=\"1d\")\n",
    "\n",
    "pf.returns_stats()\n",
    "#pf.returns_stats(column=pf.wrapper.columns[0])\n",
    "#pf.stats(column=pf.wrapper.columns[0])"
   ]
  },
  {
   "cell_type": "code",
   "execution_count": null,
   "id": "48314535-04e4-43e8-ae5c-49ef5971274d",
   "metadata": {},
   "outputs": [],
   "source": [
    "pf.wrapper.columns[0]"
   ]
  },
  {
   "cell_type": "code",
   "execution_count": 25,
   "id": "88829b2d-463d-4b79-b75c-34158c3e0237",
   "metadata": {},
   "outputs": [
    {
     "data": {
      "application/vnd.jupyter.widget-view+json": {
       "model_id": "25c92ade232247f6a3428632b852f8ef",
       "version_major": 2,
       "version_minor": 0
      },
      "text/plain": [
       "FigureWidget({\n",
       "    'data': [{'legendgroup': '0',\n",
       "              'line': {'color': '#1f77b4'},\n",
       "              'na…"
      ]
     },
     "metadata": {},
     "output_type": "display_data"
    }
   ],
   "source": [
    "pf.plot()\n",
    "#pf.plot(column=pf.wrapper.columns[0])"
   ]
  },
  {
   "cell_type": "code",
   "execution_count": 26,
   "id": "36419b3d-d6cc-4bf7-b488-41a97bbb0249",
   "metadata": {},
   "outputs": [
    {
     "data": {
      "text/plain": [
       "Timestamp('2019-01-09 00:00:00+0000', tz='UTC')"
      ]
     },
     "execution_count": 26,
     "metadata": {},
     "output_type": "execute_result"
    }
   ],
   "source": [
    "st.close.index[3070]"
   ]
  },
  {
   "cell_type": "code",
   "execution_count": 59,
   "id": "b6d06701-9e8d-469b-9116-e1cd9827b414",
   "metadata": {},
   "outputs": [
    {
     "data": {
      "text/plain": [
       "Start                          2018-10-31 00:00:00+00:00\n",
       "End                            2021-12-30 00:00:00+00:00\n",
       "Period                                 800 days 00:00:00\n",
       "Total Return [%]                               41.910258\n",
       "Benchmark Return [%]                           44.996537\n",
       "Annualized Return [%]                          10.242125\n",
       "Annualized Volatility [%]                      38.424697\n",
       "Max Drawdown [%]                               46.522338\n",
       "Max Drawdown Duration        345 days 09:23:28.695652172\n",
       "Sharpe Ratio                                    0.559804\n",
       "Calmar Ratio                                    0.263874\n",
       "Omega Ratio                                     1.092212\n",
       "Sortino Ratio                                   0.808886\n",
       "Skew                                           -0.198601\n",
       "Kurtosis                                        8.575203\n",
       "Tail Ratio                                      1.043197\n",
       "Common Sense Ratio                              1.151678\n",
       "Value at Risk                                  -0.028623\n",
       "Alpha                                             0.0242\n",
       "Beta                                              0.8957\n",
       "Name: agg_stats, dtype: object"
      ]
     },
     "execution_count": 59,
     "metadata": {},
     "output_type": "execute_result"
    }
   ],
   "source": [
    "start_ind=3000\n",
    "end_ind=4000\n",
    "pf=vbt.Portfolio.from_signals(st.close[start_ind:end_ind], st.entries[start_ind:end_ind],st.exits[start_ind:end_ind],\n",
    "                              short_entries=st.entries_short[start_ind:end_ind],short_exits  =st.exits_short[start_ind:end_ind],\n",
    "                              freq=\"1d\")\n",
    "\n",
    "pf.returns_stats()"
   ]
  },
  {
   "cell_type": "code",
   "execution_count": null,
   "id": "6b5e040e-95c5-4a6c-a8ea-79b7ed7043ac",
   "metadata": {},
   "outputs": [],
   "source": []
  },
  {
   "cell_type": "code",
   "execution_count": null,
   "id": "f941a280-fb43-40e9-92df-32ff462c24f0",
   "metadata": {},
   "outputs": [],
   "source": [
    "\n"
   ]
  },
  {
   "cell_type": "code",
   "execution_count": null,
   "id": "260ab8c7-8c95-4ae8-8738-3c86fd7ba392",
   "metadata": {},
   "outputs": [],
   "source": []
  },
  {
   "cell_type": "code",
   "execution_count": null,
   "id": "796df45d-1a2d-47ec-ac28-a975361be20d",
   "metadata": {},
   "outputs": [],
   "source": []
  },
  {
   "cell_type": "code",
   "execution_count": null,
   "id": "9718be22-1535-4245-b04e-cd379bd65119",
   "metadata": {},
   "outputs": [],
   "source": []
  },
  {
   "cell_type": "code",
   "execution_count": null,
   "id": "283ad825-46ee-4746-8f38-1da191f49137",
   "metadata": {},
   "outputs": [],
   "source": []
  },
  {
   "cell_type": "code",
   "execution_count": null,
   "id": "79dd3749-1ca9-4ecd-990a-04446bddbf77",
   "metadata": {},
   "outputs": [],
   "source": []
  },
  {
   "cell_type": "code",
   "execution_count": null,
   "id": "2c4e8df0-518c-4cac-bf17-1237367e48d1",
   "metadata": {},
   "outputs": [],
   "source": []
  }
 ],
 "metadata": {
  "kernelspec": {
   "display_name": "Python 3 (ipykernel)",
   "language": "python",
   "name": "python3"
  },
  "language_info": {
   "codemirror_mode": {
    "name": "ipython",
    "version": 3
   },
   "file_extension": ".py",
   "mimetype": "text/x-python",
   "name": "python",
   "nbconvert_exporter": "python",
   "pygments_lexer": "ipython3",
   "version": "3.8.10"
  }
 },
 "nbformat": 4,
 "nbformat_minor": 5
}
