{
 "cells": [
  {
   "cell_type": "code",
   "execution_count": 1,
   "id": "9e1c637d-d860-4364-8031-86868a0de98f",
   "metadata": {},
   "outputs": [],
   "source": [
    "from core.common import VBTfunc\n",
    "import vectorbtpro as vbt\n",
    "import talib\n",
    "import numpy as np\n",
    "from numba import njit\n",
    "import math\n",
    "import inspect\n",
    "\n",
    "from core import constants\n",
    "from core.indicators import VBTKAMA, VBTBBANDSTREND, VBTMACDBBTREND\n",
    "\n",
    "from trading_bot.settings import STOCH_LL, STOCH_LU, BBAND_THRESHOLD"
   ]
  },
  {
   "cell_type": "code",
   "execution_count": 2,
   "id": "c1ef50c8-f7b1-431d-b067-ff73126331e0",
   "metadata": {},
   "outputs": [],
   "source": [
    "#only to visualize trend\n",
    "\n",
    "#modify it depending on what you want to observe\n",
    "def trend_mode(trend, mode_to_vis ):\n",
    "    entries=(trend[:]>=mode_to_vis)\n",
    "    exits=~entries\n",
    "      \n",
    "    return entries, exits\n",
    "\n",
    "VBTTRENDMODE= vbt.IF(\n",
    "      class_name='VBTPatternEnt',\n",
    "      short_name='pattern_ent',\n",
    "      input_names=['macro_trend'],\n",
    "      param_names=['mode_to_vis'],\n",
    "      output_names=['entries', 'exits']\n",
    " ).with_apply_func(\n",
    "      trend_mode, \n",
    "      takes_1d=True,  \n",
    " ) "
   ]
  },
  {
   "cell_type": "code",
   "execution_count": 5,
   "id": "61f21c46-8937-4805-86cc-954f15db0521",
   "metadata": {},
   "outputs": [],
   "source": [
    "class Vis(VBTfunc):\n",
    "    def __init__(self,period,**kwargs):\n",
    "        \n",
    "        self.close_dic={}\n",
    "        self.open_dic={}\n",
    "        self.low_dic={}\n",
    "        self.high_dic={}\n",
    "        self.indexes=[\"CAC40\", \"DAX\", \"NASDAQ\"]\n",
    "        \n",
    "        for ind in self.indexes:\n",
    "            super().__init__(ind,period)\n",
    "            \n",
    "            if kwargs.get(\"index\",False):\n",
    "            #self.only_index=True\n",
    "                self.close_dic[ind]=self.close_ind\n",
    "                self.open_dic[ind]=self.open_ind\n",
    "                self.low_dic[ind]=self.low_ind\n",
    "                self.high_dic[ind]=self.high_ind\n",
    "            else:\n",
    "                self.close_dic[ind]=self.close\n",
    "                self.open_dic[ind]=self.open\n",
    "                self.low_dic[ind]=self.low\n",
    "                self.high_dic[ind]=self.high        \n",
    "        \n",
    "        self.trend={}\n",
    "\n",
    "        for ind in self.indexes:\n",
    "            if False:\n",
    "                t=VBTBBANDSTREND.run(self.close_dic[ind])\n",
    "            else:\n",
    "                t=VBTMACDBBTREND.run(self.close_dic[ind])\n",
    "            \n",
    "            self.trend[ind]=t.trend\n",
    "\n",
    "    def trend_mode(self,mode_to_vis):\n",
    "        self.ents={}\n",
    "        self.exs={}\n",
    "        \n",
    "        for ind in self.indexes:\n",
    "            t=VBTTRENDMODE.run(self.trend[ind],mode_to_vis=mode_to_vis)\n",
    "            self.ents[ind]=t.entries\n",
    "            self.exs[ind]=t.exits\n",
    "            \n",
    "    def manual_calculate_pf(self,ind, mode_to_vis):\n",
    "        self.trend_mode(mode_to_vis)\n",
    "        pf=vbt.Portfolio.from_signals(self.close_dic[ind], self.ents[ind],self.exs[ind],\n",
    "                                      freq=\"1d\")\n",
    "        return pf\n",
    "        "
   ]
  },
  {
   "cell_type": "code",
   "execution_count": 6,
   "id": "ceff2e49-c7d0-49cd-a60f-307a0a263464",
   "metadata": {},
   "outputs": [
    {
     "data": {
      "application/vnd.jupyter.widget-view+json": {
       "model_id": "2f8f76a17a7a404d878161048371ece9",
       "version_major": 2,
       "version_minor": 0
      },
      "text/plain": [
       "  0%|          | 0/26 [00:00<?, ?it/s]"
      ]
     },
     "metadata": {},
     "output_type": "display_data"
    },
    {
     "data": {
      "application/vnd.jupyter.widget-view+json": {
       "model_id": "c466f1fa257a4deda70371bd130b041f",
       "version_major": 2,
       "version_minor": 0
      },
      "text/plain": [
       "  0%|          | 0/23 [00:00<?, ?it/s]"
      ]
     },
     "metadata": {},
     "output_type": "display_data"
    },
    {
     "data": {
      "application/vnd.jupyter.widget-view+json": {
       "model_id": "102b506947e04cf1a831d284b75531b3",
       "version_major": 2,
       "version_minor": 0
      },
      "text/plain": [
       "  0%|          | 0/69 [00:00<?, ?it/s]"
      ]
     },
     "metadata": {},
     "output_type": "display_data"
    }
   ],
   "source": [
    "o=Vis(\"2007_2022\") #,index=True"
   ]
  },
  {
   "cell_type": "code",
   "execution_count": 7,
   "id": "0df84c67-392e-40c5-8520-dde52864bb28",
   "metadata": {},
   "outputs": [],
   "source": [
    "pf=o.manual_calculate_pf(\"CAC40\",10)"
   ]
  },
  {
   "cell_type": "code",
   "execution_count": 8,
   "id": "ae56d246-851f-4a64-b94c-f1dd12c07c66",
   "metadata": {},
   "outputs": [
    {
     "data": {
      "application/vnd.jupyter.widget-view+json": {
       "model_id": "98a050bef3a74e469adb3289ee0643b2",
       "version_major": 2,
       "version_minor": 0
      },
      "text/plain": [
       "FigureWidget({\n",
       "    'data': [{'legendgroup': '0',\n",
       "              'line': {'color': '#1f77b4'},\n",
       "              'na…"
      ]
     },
     "metadata": {},
     "output_type": "display_data"
    }
   ],
   "source": [
    "#pf.plot()\n",
    "pf.plot(column=pf.wrapper.columns[3])"
   ]
  },
  {
   "cell_type": "code",
   "execution_count": 11,
   "id": "607b9165-09a4-4f06-ba98-5dfa76e4487d",
   "metadata": {},
   "outputs": [
    {
     "data": {
      "application/vnd.jupyter.widget-view+json": {
       "model_id": "fc0b7059653d4f13b312390a21c0343c",
       "version_major": 2,
       "version_minor": 0
      },
      "text/plain": [
       "FigureWidget({\n",
       "    'data': [{'name': 'AC',\n",
       "              'showlegend': True,\n",
       "              'type': 'scatter',\n",
       "…"
      ]
     },
     "metadata": {},
     "output_type": "display_data"
    }
   ],
   "source": [
    "o.trend[\"CAC40\"][\"AC\"].vbt.plot()"
   ]
  },
  {
   "cell_type": "code",
   "execution_count": null,
   "id": "38463581-c10f-4bed-b50a-92f23a64309b",
   "metadata": {},
   "outputs": [],
   "source": []
  },
  {
   "cell_type": "code",
   "execution_count": 75,
   "id": "17d91ee2-e6a8-45f7-8d50-d6f25e3b5328",
   "metadata": {},
   "outputs": [],
   "source": []
  },
  {
   "cell_type": "code",
   "execution_count": 88,
   "id": "6d204786-37eb-4fb8-b3ad-eac74f820fc7",
   "metadata": {},
   "outputs": [],
   "source": []
  },
  {
   "cell_type": "code",
   "execution_count": 86,
   "id": "ae8e8614-ca26-4208-88f0-c845e6bf18be",
   "metadata": {},
   "outputs": [],
   "source": []
  },
  {
   "cell_type": "code",
   "execution_count": null,
   "id": "512c8a76-a3b3-4df5-a266-44da92498a9f",
   "metadata": {},
   "outputs": [],
   "source": []
  },
  {
   "cell_type": "code",
   "execution_count": null,
   "id": "2b41288b-5314-4a47-ada7-2c2959ce3124",
   "metadata": {},
   "outputs": [],
   "source": []
  }
 ],
 "metadata": {
  "kernelspec": {
   "display_name": "Python 3 (ipykernel)",
   "language": "python",
   "name": "python3"
  },
  "language_info": {
   "codemirror_mode": {
    "name": "ipython",
    "version": 3
   },
   "file_extension": ".py",
   "mimetype": "text/x-python",
   "name": "python",
   "nbconvert_exporter": "python",
   "pygments_lexer": "ipython3",
   "version": "3.8.10"
  }
 },
 "nbformat": 4,
 "nbformat_minor": 5
}
