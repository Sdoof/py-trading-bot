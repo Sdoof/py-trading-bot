{
 "cells": [
  {
   "cell_type": "code",
   "execution_count": 1,
   "id": "fb561024-87f5-40a5-ae6c-f4d89360a0f5",
   "metadata": {},
   "outputs": [],
   "source": [
    "#Notebook to visualize the macro function (which is responsible to detect if the trend is globally bear or bull)\n",
    "import sys\n",
    "sys.path.append(\"..\")\n",
    "\n",
    "from memory_profiler import profile\n",
    "from core import indicators as ic\n",
    "from core import strat\n",
    "from core.common import VBTfunc\n",
    "import vectorbtpro as vbt\n",
    "from vectorbtpro.utils.config import Config\n",
    "import numpy as np\n",
    "import gc\n",
    "import talib\n",
    "import pandas as pd\n",
    "import math\n",
    "import copy\n",
    "from numba import njit\n",
    "\n",
    "from core.macro import VBTMACROTREND, VBTMACROVIS"
   ]
  },
  {
   "cell_type": "code",
   "execution_count": 2,
   "id": "1ce0bb9a-1d09-44bd-a761-846c039195fe",
   "metadata": {},
   "outputs": [],
   "source": [
    "class Vis(VBTfunc):\n",
    "    def __init__(self,period,**kwargs):\n",
    "        \n",
    "        self.close_dic={}\n",
    "        self.open_dic={}\n",
    "        self.low_dic={}\n",
    "        self.high_dic={}\n",
    "        self.indexes=[\"CAC40\", \"DAX\", \"NASDAQ\"]\n",
    "        \n",
    "        for ind in self.indexes:\n",
    "            super().__init__(ind,period)\n",
    "            \n",
    "            if kwargs.get(\"index\",False):\n",
    "            #self.only_index=True\n",
    "                self.close_dic[ind]=self.close_ind\n",
    "                self.open_dic[ind]=self.open_ind\n",
    "                self.low_dic[ind]=self.low_ind\n",
    "                self.high_dic[ind]=self.high_ind\n",
    "            else:\n",
    "                self.close_dic[ind]=self.close\n",
    "                self.open_dic[ind]=self.open\n",
    "                self.low_dic[ind]=self.low\n",
    "                self.high_dic[ind]=self.high        \n",
    "        \n",
    "        self.macro_trend={}\n",
    "\n",
    "        for ind in self.indexes:\n",
    "            t=VBTMACROTREND.run(self.close_dic[ind])\n",
    "            self.macro_trend[ind]=t.macro_trend\n",
    "\n",
    "    def macro_mode(self,mode_to_vis):\n",
    "        self.ents={}\n",
    "        self.exs={}\n",
    "        \n",
    "        for ind in self.indexes:\n",
    "            t=VBTMACROVIS.run(self.macro_trend[ind],mode_to_vis=mode_to_vis)\n",
    "            self.ents[ind]=t.entries\n",
    "            self.exs[ind]=t.exits\n",
    "    \n",
    "    def manual_calculate_pf(self,ind, mode_to_vis):\n",
    "        self.macro_mode(mode_to_vis)\n",
    "        pf=vbt.Portfolio.from_signals(self.close_dic[ind], self.ents[ind],self.exs[ind],\n",
    "                                      freq=\"1d\")\n",
    "        return pf\n",
    "        \n",
    "      "
   ]
  },
  {
   "cell_type": "code",
   "execution_count": 3,
   "id": "010b9401-3990-4c05-919f-532cf33ecb53",
   "metadata": {},
   "outputs": [
    {
     "data": {
      "application/vnd.jupyter.widget-view+json": {
       "model_id": "8ae9fd5bc45e435c8c622838a68ced16",
       "version_major": 2,
       "version_minor": 0
      },
      "text/plain": [
       "  0%|          | 0/26 [00:00<?, ?it/s]"
      ]
     },
     "metadata": {},
     "output_type": "display_data"
    },
    {
     "data": {
      "application/vnd.jupyter.widget-view+json": {
       "model_id": "69f9f35d3d4c4772be5638253cfaa5bc",
       "version_major": 2,
       "version_minor": 0
      },
      "text/plain": [
       "  0%|          | 0/23 [00:00<?, ?it/s]"
      ]
     },
     "metadata": {},
     "output_type": "display_data"
    },
    {
     "data": {
      "application/vnd.jupyter.widget-view+json": {
       "model_id": "315a05f023154a95a6cf0a4a273a0858",
       "version_major": 2,
       "version_minor": 0
      },
      "text/plain": [
       "  0%|          | 0/69 [00:00<?, ?it/s]"
      ]
     },
     "metadata": {},
     "output_type": "display_data"
    }
   ],
   "source": [
    "o=Vis(\"2007_2022\") #,index=True"
   ]
  },
  {
   "cell_type": "code",
   "execution_count": 8,
   "id": "10de77ce-c528-4d36-9d4f-fc6b76ede7a3",
   "metadata": {},
   "outputs": [
    {
     "name": "stderr",
     "output_type": "stream",
     "text": [
      "/home/maxime/.local/lib/python3.8/site-packages/vectorbtpro/portfolio/base.py:9537: UserWarning:\n",
      "\n",
      "Object has multiple columns. Aggregated some metrics using <function mean at 0x7f0b241731f0>. Pass column to select a single column/group.\n",
      "\n"
     ]
    },
    {
     "data": {
      "text/plain": [
       "Start                           2007-01-03 00:00:00+00:00\n",
       "End                             2021-12-31 00:00:00+00:00\n",
       "Period                                 3777 days 00:00:00\n",
       "Total Return [%]                               121.643145\n",
       "Benchmark Return [%]                           1761.29449\n",
       "Annualized Return [%]                            3.966245\n",
       "Annualized Volatility [%]                       21.240637\n",
       "Max Drawdown [%]                                44.589527\n",
       "Max Drawdown Duration        2021 days 20:52:10.434782624\n",
       "Sharpe Ratio                                      0.37389\n",
       "Calmar Ratio                                     0.121704\n",
       "Omega Ratio                                      1.121022\n",
       "Sortino Ratio                                    0.568953\n",
       "Skew                                             0.330878\n",
       "Kurtosis                                        52.671447\n",
       "Tail Ratio                                       1.140656\n",
       "Common Sense Ratio                               1.188551\n",
       "Value at Risk                                    -0.01293\n",
       "Alpha                                           -0.005288\n",
       "Beta                                             0.270968\n",
       "Name: agg_stats, dtype: object"
      ]
     },
     "execution_count": 8,
     "metadata": {},
     "output_type": "execute_result"
    }
   ],
   "source": [
    "pf=o.manual_calculate_pf(\"NASDAQ\",0)\n",
    "pf.returns_stats()"
   ]
  },
  {
   "cell_type": "code",
   "execution_count": 9,
   "id": "5224f659-cf9d-44eb-90d2-25d2821ce1b9",
   "metadata": {},
   "outputs": [],
   "source": [
    "pf=vbt.Portfolio.from_signals(o.close_dic[\"CAC40\"], o.ents[\"CAC40\"],o.exs[\"CAC40\"], freq=\"1d\")"
   ]
  },
  {
   "cell_type": "code",
   "execution_count": 10,
   "id": "fdab9e52-0971-4bec-a9d7-d8718947cc6b",
   "metadata": {},
   "outputs": [
    {
     "data": {
      "application/vnd.jupyter.widget-view+json": {
       "model_id": "f5dcea7563df411a9e0027608649bd3c",
       "version_major": 2,
       "version_minor": 0
      },
      "text/plain": [
       "FigureWidget({\n",
       "    'data': [{'legendgroup': '0',\n",
       "              'line': {'color': '#1f77b4'},\n",
       "              'na…"
      ]
     },
     "metadata": {},
     "output_type": "display_data"
    }
   ],
   "source": [
    "#pf.plot()\n",
    "pf.plot(column=pf.wrapper.columns[3])"
   ]
  },
  {
   "cell_type": "code",
   "execution_count": null,
   "id": "42c39945-0a2f-470a-bfe8-3d235cddf18e",
   "metadata": {},
   "outputs": [],
   "source": []
  },
  {
   "cell_type": "code",
   "execution_count": null,
   "id": "dedea581-d286-4393-8207-a8e1c896e4fa",
   "metadata": {},
   "outputs": [],
   "source": []
  },
  {
   "cell_type": "code",
   "execution_count": null,
   "id": "b6db05f0-12d2-463a-907c-aa7d7c9051df",
   "metadata": {},
   "outputs": [],
   "source": []
  },
  {
   "cell_type": "code",
   "execution_count": null,
   "id": "3a9238bf-6e5d-48ad-89d0-b7ef457081b6",
   "metadata": {},
   "outputs": [],
   "source": []
  },
  {
   "cell_type": "code",
   "execution_count": null,
   "id": "d377cd77-86bb-4025-87b4-148d0f9dbfe0",
   "metadata": {},
   "outputs": [],
   "source": []
  },
  {
   "cell_type": "code",
   "execution_count": null,
   "id": "00210c80-395c-4606-b1e8-c54a4d8b5a39",
   "metadata": {},
   "outputs": [],
   "source": []
  },
  {
   "cell_type": "code",
   "execution_count": null,
   "id": "559e77ed-b1f8-474b-8328-1b527d7b36e3",
   "metadata": {},
   "outputs": [],
   "source": []
  },
  {
   "cell_type": "code",
   "execution_count": null,
   "id": "ae76c4c2-fc3e-4374-b83e-9d5bd8793749",
   "metadata": {},
   "outputs": [],
   "source": []
  },
  {
   "cell_type": "code",
   "execution_count": null,
   "id": "c5b116a9-833d-4a7d-a982-9c4c93cfaa46",
   "metadata": {},
   "outputs": [],
   "source": []
  },
  {
   "cell_type": "code",
   "execution_count": null,
   "id": "5f6d3ee2-21bb-4a6c-8314-67ca763439a2",
   "metadata": {},
   "outputs": [],
   "source": []
  },
  {
   "cell_type": "code",
   "execution_count": null,
   "id": "bcb0c65d-d365-47a5-b19f-f79777529b3e",
   "metadata": {},
   "outputs": [],
   "source": [
    "\n",
    "\n"
   ]
  },
  {
   "cell_type": "code",
   "execution_count": null,
   "id": "d8656460-a2d2-47bb-8adf-5bf30650e9ea",
   "metadata": {},
   "outputs": [],
   "source": []
  },
  {
   "cell_type": "code",
   "execution_count": null,
   "id": "04d64193-b4fd-4ba5-9932-d8455aaa5812",
   "metadata": {},
   "outputs": [],
   "source": []
  },
  {
   "cell_type": "code",
   "execution_count": null,
   "id": "7130ee00-f834-41cc-998a-28838a846106",
   "metadata": {},
   "outputs": [],
   "source": []
  },
  {
   "cell_type": "code",
   "execution_count": null,
   "id": "5cb489d3-5293-4a88-9c8b-f347de8a9d3d",
   "metadata": {},
   "outputs": [],
   "source": []
  },
  {
   "cell_type": "code",
   "execution_count": null,
   "id": "33dbe0b2-db87-43c8-8ecd-4b00c7dffc8e",
   "metadata": {},
   "outputs": [],
   "source": []
  }
 ],
 "metadata": {
  "kernelspec": {
   "display_name": "Python 3 (ipykernel)",
   "language": "python",
   "name": "python3"
  },
  "language_info": {
   "codemirror_mode": {
    "name": "ipython",
    "version": 3
   },
   "file_extension": ".py",
   "mimetype": "text/x-python",
   "name": "python",
   "nbconvert_exporter": "python",
   "pygments_lexer": "ipython3",
   "version": "3.8.10"
  }
 },
 "nbformat": 4,
 "nbformat_minor": 5
}
