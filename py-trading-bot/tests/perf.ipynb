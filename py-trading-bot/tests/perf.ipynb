{
 "cells": [
  {
   "cell_type": "code",
   "execution_count": 84,
   "id": "e1cbb5a9-1d28-47f5-a643-fc707dea317f",
   "metadata": {},
   "outputs": [
    {
     "data": {
      "text/plain": [
       "<module 'core.indicators' from '/home/maxime/py-trading-bot/bot/core/indicators.py'>"
      ]
     },
     "execution_count": 84,
     "metadata": {},
     "output_type": "execute_result"
    }
   ],
   "source": [
    "#Measure speed of the different functions\n",
    "\n",
    "import vectorbtpro as vbt\n",
    "import numpy as np\n",
    "import pandas as pd\n",
    "\n",
    "import importlib\n",
    "import inspect\n",
    "from numba import njit\n",
    "import talib\n",
    "import math\n",
    "\n",
    "from core import strat\n",
    "from core import indicators as ic\n",
    "\n",
    "importlib.reload(ic)"
   ]
  },
  {
   "cell_type": "code",
   "execution_count": 27,
   "id": "bd04a80e-4434-4ace-a5a9-65ea37722e88",
   "metadata": {},
   "outputs": [
    {
     "data": {
      "application/vnd.jupyter.widget-view+json": {
       "model_id": "617eb1445be346e58e52872347dedf1c",
       "version_major": 2,
       "version_minor": 0
      },
      "text/plain": [
       "  0%|          | 0/26 [00:00<?, ?it/s]"
      ]
     },
     "metadata": {},
     "output_type": "display_data"
    }
   ],
   "source": [
    "st=strat.Strat(\"CAC40\",\"2007_2022\",\"test\")\n",
    "\n"
   ]
  },
  {
   "cell_type": "code",
   "execution_count": 85,
   "id": "d4eb4fc2-661e-4241-b833-c67b6bd354fe",
   "metadata": {},
   "outputs": [
    {
     "name": "stdout",
     "output_type": "stream",
     "text": [
      "2.7 ms ± 26.6 µs per loop (mean ± std. dev. of 7 runs, 100 loops each)\n"
     ]
    }
   ],
   "source": [
    "#ic.VBTSUPERTREND.run(st.high,st.low,st.close)\n",
    "#%timeit ic.VBTSUPERTRENDMA.run(st.high,st.low,st.close)\n",
    "#%timeit ic.VBTMA.run(st.close)\n",
    "#%timeit ic.VBTKAMA.run(st.close)\n",
    "#%timeit ic.VBTSTOCHKAMA .run(st.high,st.low,st.close)\n",
    "#%timeit vbt.STOCH.run(st.high,st.low,st.close)\n",
    "#%timeit ic.VBTVERYBEAR.run(st.close)\n",
    "#%timeit ic.VBTPATTERN.run(st.open,st.high,st.low,st.close,light=True)\n",
    "#%timeit ic.VBTNATR.run(st.high,st.low,st.close)\n",
    "#%timeit ic.VBTBBANDSTREND.run(st.close)\n",
    "#%timeit ic.VBTMACDBBTREND.run(st.close)\n",
    "#%timeit vbt.BBANDS.run(st.close)\n",
    "#%timeit vbt.MACD.run(st.close)\n",
    "%timeit ic.VBTYNPAST.run(st.close)"
   ]
  },
  {
   "cell_type": "code",
   "execution_count": 94,
   "id": "feeddb6d-e09f-4dbb-b4e7-630a5165ab39",
   "metadata": {},
   "outputs": [
    {
     "name": "stdout",
     "output_type": "stream",
     "text": [
      "4.13 s ± 22.7 ms per loop (mean ± std. dev. of 7 runs, 1 loop each)\n"
     ]
    }
   ],
   "source": [
    "#%timeit st.strat_kama_stoch(macro_trend_uncertain=\"both\")\n",
    "#%timeit st.strat_pattern_light(macro_trend_uncertain=\"both\")\n",
    "\n",
    "#%timeit st.strat_kama_stoch_matrend_bbands()\n",
    "#%timeit st.strat_kama_stoch_super_bbands()\n",
    "#%timeit st.strat_kama_stoch_matrend_macdbb()\n",
    "#%timeit st.strat_kama_stoch_super_macdbb()\n",
    "#%timeit st.strat_pattern_light_matrend_bbands()\n",
    "#%timeit st.strat_pattern_light_super_bbands()\n",
    "#%timeit st.strat_pattern_light_matrend_macdbb()\n",
    "#%timeit st.strat_pattern_light_super_macdbb()\n",
    "\n",
    "#%timeit st.strat_kama_stoch_matrend_bbands_macro(macro_trend_bull=\"long\",macro_trend_uncertain=\"both\",macro_trend_bear=\"both\") # macro_trend_index=True\n",
    "%timeit st.strat_kama_stoch_macro(macro_trend_bull=\"long\",macro_trend_uncertain=\"long\",macro_trend_bear=\"both\")\n"
   ]
  },
  {
   "cell_type": "code",
   "execution_count": null,
   "id": "b842e260-ae02-45cd-be9e-52d02a3d1ae9",
   "metadata": {},
   "outputs": [],
   "source": []
  },
  {
   "cell_type": "code",
   "execution_count": null,
   "id": "ae7b3360-1f21-48cc-a385-fdaf267da5bc",
   "metadata": {},
   "outputs": [],
   "source": []
  }
 ],
 "metadata": {
  "kernelspec": {
   "display_name": "Python 3 (ipykernel)",
   "language": "python",
   "name": "python3"
  },
  "language_info": {
   "codemirror_mode": {
    "name": "ipython",
    "version": 3
   },
   "file_extension": ".py",
   "mimetype": "text/x-python",
   "name": "python",
   "nbconvert_exporter": "python",
   "pygments_lexer": "ipython3",
   "version": "3.8.10"
  }
 },
 "nbformat": 4,
 "nbformat_minor": 5
}
