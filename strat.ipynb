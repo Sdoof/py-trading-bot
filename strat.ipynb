{
 "cells": [
  {
   "cell_type": "code",
   "execution_count": 20,
   "id": "0209edb2-d39f-43a4-af7d-dc6817d68871",
   "metadata": {},
   "outputs": [],
   "source": [
    "## To backstage the strategies using historical and pre-saved data\n",
    "\n",
    "import vectorbtpro as vbt\n",
    "import numpy as np\n",
    "import pandas as pd\n",
    "\n",
    "import importlib\n",
    "import inspect\n",
    "from numba import njit\n",
    "import talib\n",
    "import math\n",
    "\n",
    "from core import strat, indicators\n",
    "from core import data_manager\n"
   ]
  },
  {
   "cell_type": "code",
   "execution_count": 21,
   "id": "e5875e4b-89a8-4dc6-ab25-ce8fedc34b34",
   "metadata": {},
   "outputs": [
    {
     "data": {
      "application/vnd.jupyter.widget-view+json": {
       "model_id": "cdaecf534bb0410bbade02e36b3b7460",
       "version_major": 2,
       "version_minor": 0
      },
      "text/plain": [
       "  0%|          | 0/38 [00:00<?, ?it/s]"
      ]
     },
     "metadata": {},
     "output_type": "display_data"
    },
    {
     "name": "stderr",
     "output_type": "stream",
     "text": [
      "/home/maxime/.local/lib/python3.8/site-packages/vectorbtpro/data/base.py:538: UserWarning:\n",
      "\n",
      "Symbols have mismatching index. Setting missing data points to NaN.\n",
      "\n"
     ]
    }
   ],
   "source": [
    "importlib.reload(indicators)\n",
    "importlib.reload(strat)\n",
    "importlib.reload(data_manager)\n",
    "st=strat.Strat(\"CAC40\",\"2007_2022_06\",\"test\",index=True) #\n"
   ]
  },
  {
   "cell_type": "code",
   "execution_count": 22,
   "id": "7c0c35f0-47d6-43d9-bfa7-b2ae83f6f134",
   "metadata": {},
   "outputs": [],
   "source": [
    "###No trend ###\n",
    "#st.strat_kama_stoch(macro_trend_uncertain=\"both\")\n",
    "#st.strat_pattern_light(macro_trend_uncertain=\"both\")\n",
    "\n",
    "### Trend ###\n",
    "#st.strat_kama_stoch_matrend_bbands()\n",
    "#st.strat_kama_stoch_super_bbands()\n",
    "#st.strat_kama_stoch_matrend_macdbb()\n",
    "#st.strat_kama_stoch_super_macdbb()\n",
    "#st.strat_pattern_light_matrend_bbands()\n",
    "#st.strat_pattern_light_super_bbands()\n",
    "#st.strat_pattern_light_matrend_macdbb()\n",
    "#st.strat_pattern_light_super_macdbb()\n",
    "\n",
    "#st.strat_careful_super_bbands()\n",
    "\n",
    "### Macro trend ###\n",
    "#st.strat_kama_stoch_matrend_bbands_macro(macro_trend_bull=\"long\",macro_trend_uncertain=\"both\",macro_trend_bear=\"both\") # macro_trend_index=True\n",
    "st.strat_kama_stoch_matrend_macdbb_macro(macro_trend_bull=\"long\",macro_trend_uncertain=\"long\",macro_trend_bear=\"both\")\n",
    "#st.strat_kama_stoch_macro(macro_trend_bull=\"long\",macro_trend_uncertain=\"long\",macro_trend_bear=\"both\")\n",
    "#st.strat_pattern_light_macro(macro_trend_bull=\"long\",macro_trend_uncertain=\"both\",macro_trend_bear=\"both\")\n"
   ]
  },
  {
   "cell_type": "code",
   "execution_count": 4,
   "id": "9ceeca3e-f75d-444d-b7e5-62fb5e533356",
   "metadata": {},
   "outputs": [
    {
     "data": {
      "text/plain": [
       "'ENGI'"
      ]
     },
     "execution_count": 4,
     "metadata": {},
     "output_type": "execute_result"
    }
   ],
   "source": [
    "symbol_ind=10\n",
    "st.close.columns[symbol_ind]"
   ]
  },
  {
   "cell_type": "code",
   "execution_count": 5,
   "id": "6d43afe6-2105-4c7b-80a5-d464b1f0322c",
   "metadata": {},
   "outputs": [
    {
     "data": {
      "text/plain": [
       "Start                        2007-01-02 00:00:00+00:00\n",
       "End                          2008-12-31 00:00:00+00:00\n",
       "Period                               511 days 00:00:00\n",
       "Total Return [%]                             10.916898\n",
       "Benchmark Return [%]                        -42.717406\n",
       "Annualized Return [%]                         5.317092\n",
       "Annualized Volatility [%]                    35.991014\n",
       "Max Drawdown [%]                              31.05957\n",
       "Max Drawdown Duration                372 days 00:00:00\n",
       "Sharpe Ratio                                   0.38312\n",
       "Calmar Ratio                                   0.17119\n",
       "Omega Ratio                                   1.071094\n",
       "Sortino Ratio                                 0.597258\n",
       "Skew                                          1.069654\n",
       "Kurtosis                                      8.657903\n",
       "Tail Ratio                                    0.942304\n",
       "Common Sense Ratio                            0.992407\n",
       "Value at Risk                                -0.026056\n",
       "Alpha                                         0.387716\n",
       "Beta                                          0.578416\n",
       "dtype: object"
      ]
     },
     "execution_count": 5,
     "metadata": {},
     "output_type": "execute_result"
    }
   ],
   "source": [
    "pf=vbt.Portfolio.from_signals(st.close, st.entries,st.exits,short_entries=st.entries_short,short_exits  =st.exits_short,freq=\"1d\")\n",
    "pf.returns_stats()\n",
    "#pf.returns_stats(column=symbol_ind)\n",
    "#pf.stats(column=symbol_ind)"
   ]
  },
  {
   "cell_type": "code",
   "execution_count": 6,
   "id": "88829b2d-463d-4b79-b75c-34158c3e0237",
   "metadata": {},
   "outputs": [
    {
     "data": {
      "application/vnd.jupyter.widget-view+json": {
       "model_id": "7032f5234e2d4f04a1e8d1cc63109513",
       "version_major": 2,
       "version_minor": 0
      },
      "text/plain": [
       "FigureWidget({\n",
       "    'data': [{'legendgroup': '0',\n",
       "              'line': {'color': '#1f77b4'},\n",
       "              'na…"
      ]
     },
     "metadata": {},
     "output_type": "display_data"
    }
   ],
   "source": [
    "pf.plot()\n",
    "#pf.plot(column=symbol_ind)"
   ]
  },
  {
   "cell_type": "code",
   "execution_count": 11,
   "id": "36419b3d-d6cc-4bf7-b488-41a97bbb0249",
   "metadata": {},
   "outputs": [
    {
     "data": {
      "text/plain": [
       "Date\n",
       "2007-01-02 00:00:00+00:00    False\n",
       "2007-01-03 00:00:00+00:00    False\n",
       "2007-01-04 00:00:00+00:00    False\n",
       "2007-01-05 00:00:00+00:00    False\n",
       "2007-01-08 00:00:00+00:00    False\n",
       "                             ...  \n",
       "2021-12-27 00:00:00+00:00    False\n",
       "2021-12-28 00:00:00+00:00    False\n",
       "2021-12-29 00:00:00+00:00    False\n",
       "2021-12-30 00:00:00+00:00    False\n",
       "2021-12-31 00:00:00+00:00    False\n",
       "Name: (VBTMA, VBTSTOCHKAMA, VBTSTOCHKAMA, VBTMA, VBTSTOCHKAMA, 1.5, True, long, both, long, macdbb, False), Length: 3835, dtype: bool"
      ]
     },
     "execution_count": 11,
     "metadata": {},
     "output_type": "execute_result"
    }
   ],
   "source": [
    "st.entries"
   ]
  },
  {
   "cell_type": "code",
   "execution_count": 111,
   "id": "daf4de0f-d787-4fa4-bb4c-80767dd7e9ba",
   "metadata": {},
   "outputs": [
    {
     "data": {
      "text/plain": [
       "Start                        2007-01-02 00:00:00+00:00\n",
       "End                          2021-12-31 00:00:00+00:00\n",
       "Period                              3835 days 00:00:00\n",
       "Total Return [%]                            131.292463\n",
       "Benchmark Return [%]                         27.329995\n",
       "Annualized Return [%]                         5.746046\n",
       "Annualized Volatility [%]                    22.879927\n",
       "Max Drawdown [%]                             39.031238\n",
       "Max Drawdown Duration               1709 days 00:00:00\n",
       "Sharpe Ratio                                    0.4632\n",
       "Calmar Ratio                                  0.147217\n",
       "Omega Ratio                                   1.097905\n",
       "Sortino Ratio                                 0.664403\n",
       "Skew                                          0.142381\n",
       "Kurtosis                                     15.953618\n",
       "Tail Ratio                                    1.011886\n",
       "Common Sense Ratio                             1.07003\n",
       "Value at Risk                                -0.017491\n",
       "Alpha                                          0.06541\n",
       "Beta                                          0.713176\n",
       "dtype: object"
      ]
     },
     "execution_count": 111,
     "metadata": {},
     "output_type": "execute_result"
    }
   ],
   "source": [
    "pf_long=vbt.Portfolio.from_signals(st.close, st.entries,st.exits,freq=\"1d\")\n",
    "pf_long.returns_stats(column=symbol_ind)"
   ]
  },
  {
   "cell_type": "code",
   "execution_count": 112,
   "id": "370e6091-fb0f-4e41-a528-1bd1562f2088",
   "metadata": {},
   "outputs": [
    {
     "data": {
      "text/plain": [
       "Start                        2007-01-02 00:00:00+00:00\n",
       "End                          2021-12-31 00:00:00+00:00\n",
       "Period                              3835 days 00:00:00\n",
       "Total Return [%]                             17.457379\n",
       "Benchmark Return [%]                         27.329995\n",
       "Annualized Return [%]                         1.077883\n",
       "Annualized Volatility [%]                     8.370506\n",
       "Max Drawdown [%]                             29.388762\n",
       "Max Drawdown Duration               3262 days 00:00:00\n",
       "Sharpe Ratio                                  0.224399\n",
       "Calmar Ratio                                  0.036677\n",
       "Omega Ratio                                   1.148475\n",
       "Sortino Ratio                                 0.360896\n",
       "Skew                                          3.589095\n",
       "Kurtosis                                     95.849991\n",
       "Tail Ratio                                         inf\n",
       "Common Sense Ratio                                 inf\n",
       "Value at Risk                                      0.0\n",
       "Alpha                                         0.024791\n",
       "Beta                                         -0.095502\n",
       "dtype: object"
      ]
     },
     "execution_count": 112,
     "metadata": {},
     "output_type": "execute_result"
    }
   ],
   "source": [
    "entries=pd.DataFrame.vbt.empty_like(st.entries, fill_value=False)\n",
    "exits=pd.DataFrame.vbt.empty_like(st.exits, fill_value=False)\n",
    "pf_short=vbt.Portfolio.from_signals(st.close, entries,exits,short_entries=st.entries_short,short_exits  =st.exits_short,freq=\"1d\")\n",
    "pf_short.returns_stats(column=symbol_ind)\n"
   ]
  },
  {
   "cell_type": "code",
   "execution_count": 41,
   "id": "5d0e1218-2175-42b1-a9bb-2fadce536399",
   "metadata": {},
   "outputs": [
    {
     "data": {
      "application/vnd.jupyter.widget-view+json": {
       "model_id": "17cd987623e646d1a32597ac6bce3233",
       "version_major": 2,
       "version_minor": 0
      },
      "text/plain": [
       "FigureWidget({\n",
       "    'data': [{'legendgroup': '0',\n",
       "              'line': {'color': '#1f77b4'},\n",
       "              'na…"
      ]
     },
     "metadata": {},
     "output_type": "display_data"
    }
   ],
   "source": [
    "pf_short.plot(column=symbol_ind)"
   ]
  },
  {
   "cell_type": "code",
   "execution_count": 202,
   "id": "6642e434-22d6-4dbe-b2bc-da656d68d60a",
   "metadata": {},
   "outputs": [
    {
     "data": {
      "application/vnd.jupyter.widget-view+json": {
       "model_id": "aaff20229d4a489ca20aefa301a35aab",
       "version_major": 2,
       "version_minor": 0
      },
      "text/plain": [
       "FigureWidget({\n",
       "    'data': [{'name': (\"('VBTMA', 'VBTSTOCHKAMA', 'VBT\" ... \"hort', 'both', 'bbands', 'MC')\"),\n",
       "…"
      ]
     },
     "metadata": {},
     "output_type": "display_data"
    }
   ],
   "source": [
    "trend=st.trend[st.trend.columns[symbol_ind]]\n",
    "trend.vbt.plot()"
   ]
  },
  {
   "cell_type": "code",
   "execution_count": 127,
   "id": "81fdf2d0-1578-454a-9dbd-8c08c1c727ac",
   "metadata": {},
   "outputs": [
    {
     "data": {
      "application/vnd.jupyter.widget-view+json": {
       "model_id": "76f68c8b3e104c9abe803e3cb6dbd7fd",
       "version_major": 2,
       "version_minor": 0
      },
      "text/plain": [
       "FigureWidget({\n",
       "    'data': [{'name': (\"('VBTMA', 'VBTSTOCHKAMA', 'VBT\" ... \"oth', 'long', 'bbands', False)\"),\n",
       "…"
      ]
     },
     "metadata": {},
     "output_type": "display_data"
    }
   ],
   "source": [
    "#macro_trend=st.macro_trend[st.macro_trend.columns[symbol_ind]]\n",
    "macro_trend=st.macro_trend\n",
    "macro_trend.vbt.plot()"
   ]
  },
  {
   "cell_type": "code",
   "execution_count": 45,
   "id": "13188843-0ea0-4a03-aa5f-83f1d3f88568",
   "metadata": {},
   "outputs": [
    {
     "data": {
      "application/vnd.jupyter.widget-view+json": {
       "model_id": "ea6dc71fce7440acba78f376366bb5eb",
       "version_major": 2,
       "version_minor": 0
      },
      "text/plain": [
       "FigureWidget({\n",
       "    'data': [{'legendgroup': '0',\n",
       "              'line': {'color': '#1f77b4'},\n",
       "              'na…"
      ]
     },
     "metadata": {},
     "output_type": "display_data"
    }
   ],
   "source": [
    "fig=pf.plot(column=symbol_ind)\n",
    "kama=vbt.IF.from_talib(\"KAMA\").run(st.close)\n",
    "k=kama.real[st.close.columns[symbol_ind]]\n",
    "k.vbt.plot(fig=fig)\n"
   ]
  },
  {
   "cell_type": "code",
   "execution_count": 8,
   "id": "b6d06701-9e8d-469b-9116-e1cd9827b414",
   "metadata": {},
   "outputs": [
    {
     "data": {
      "application/vnd.jupyter.widget-view+json": {
       "model_id": "068bca5bfcf24a31ad33d9a3605ca77a",
       "version_major": 2,
       "version_minor": 0
      },
      "text/plain": [
       "FigureWidget({\n",
       "    'data': [{'name': (\"('VBTMA', 'VBTSTOCHKAMA', 'VBT\" ... \"oth', 'long', 'macdbb', False)\"),\n",
       "…"
      ]
     },
     "metadata": {},
     "output_type": "display_data"
    }
   ],
   "source": [
    "st.trend.vbt.plot()"
   ]
  },
  {
   "cell_type": "code",
   "execution_count": 9,
   "id": "6b5e040e-95c5-4a6c-a8ea-79b7ed7043ac",
   "metadata": {},
   "outputs": [
    {
     "data": {
      "application/vnd.jupyter.widget-view+json": {
       "model_id": "ebebcacdfed549eabfba2e7908e6034d",
       "version_major": 2,
       "version_minor": 0
      },
      "text/plain": [
       "FigureWidget({\n",
       "    'data': [{'legendgroup': '0',\n",
       "              'line': {'color': '#1f77b4'},\n",
       "              'na…"
      ]
     },
     "metadata": {},
     "output_type": "display_data"
    }
   ],
   "source": [
    "pf.plot()"
   ]
  },
  {
   "cell_type": "code",
   "execution_count": 11,
   "id": "f941a280-fb43-40e9-92df-32ff462c24f0",
   "metadata": {},
   "outputs": [
    {
     "name": "stderr",
     "output_type": "stream",
     "text": [
      "/home/maxime/.local/lib/python3.8/site-packages/vectorbtpro/generic/stats_builder.py:461: UserWarning: Metric 'ann_return' requires frequency to be set\n",
      "  warnings.warn(warning_message)\n",
      "/home/maxime/.local/lib/python3.8/site-packages/vectorbtpro/generic/stats_builder.py:461: UserWarning: Metric 'ann_volatility' requires frequency to be set\n",
      "  warnings.warn(warning_message)\n",
      "/home/maxime/.local/lib/python3.8/site-packages/vectorbtpro/generic/stats_builder.py:461: UserWarning: Metric 'sharpe_ratio' requires frequency to be set\n",
      "  warnings.warn(warning_message)\n",
      "/home/maxime/.local/lib/python3.8/site-packages/vectorbtpro/generic/stats_builder.py:461: UserWarning: Metric 'calmar_ratio' requires frequency to be set\n",
      "  warnings.warn(warning_message)\n",
      "/home/maxime/.local/lib/python3.8/site-packages/vectorbtpro/generic/stats_builder.py:461: UserWarning: Metric 'omega_ratio' requires frequency to be set\n",
      "  warnings.warn(warning_message)\n",
      "/home/maxime/.local/lib/python3.8/site-packages/vectorbtpro/generic/stats_builder.py:461: UserWarning: Metric 'sortino_ratio' requires frequency to be set\n",
      "  warnings.warn(warning_message)\n",
      "/home/maxime/.local/lib/python3.8/site-packages/vectorbtpro/generic/stats_builder.py:461: UserWarning: Metric 'common_sense_ratio' requires frequency to be set\n",
      "  warnings.warn(warning_message)\n",
      "/home/maxime/.local/lib/python3.8/site-packages/vectorbtpro/generic/stats_builder.py:461: UserWarning: Metric 'alpha' requires frequency to be set\n",
      "  warnings.warn(warning_message)\n"
     ]
    },
    {
     "data": {
      "text/plain": [
       "Start                    2007-01-02 00:00:00+00:00\n",
       "End                      2008-12-31 00:00:00+00:00\n",
       "Period                                         511\n",
       "Total Return [%]                         -9.276557\n",
       "Benchmark Return [%]                    -10.332052\n",
       "Max Drawdown [%]                         49.054682\n",
       "Max Drawdown Duration                        339.0\n",
       "Skew                                      1.355302\n",
       "Kurtosis                                 10.175233\n",
       "Tail Ratio                                0.955367\n",
       "Value at Risk                            -0.030756\n",
       "Beta                                      0.707872\n",
       "Name: 0, dtype: object"
      ]
     },
     "execution_count": 11,
     "metadata": {},
     "output_type": "execute_result"
    }
   ],
   "source": [
    "t=indicators.VBTSTOCHKAMA.run(st.high,st.low,st.close)\n",
    "\n",
    "\n",
    "\n",
    "pf_long=vbt.Portfolio.from_signals(st.close, t.entries,t.exits)\n",
    "pf_long.returns_stats(column=0)\n"
   ]
  },
  {
   "cell_type": "code",
   "execution_count": 19,
   "id": "260ab8c7-8c95-4ae8-8738-3c86fd7ba392",
   "metadata": {},
   "outputs": [
    {
     "data": {
      "text/plain": [
       "symbol\n",
       "AC     -0.092766\n",
       "AI     -0.163205\n",
       "AIR    -0.054836\n",
       "ATO    -0.543136\n",
       "BN     -0.108617\n",
       "BNP    -0.173680\n",
       "CA     -0.315699\n",
       "CAP    -0.370691\n",
       "DG     -0.354469\n",
       "EN     -0.548755\n",
       "ENGI    0.234792\n",
       "GLE    -0.108836\n",
       "HO     -0.185173\n",
       "KER    -0.538959\n",
       "MC     -0.028163\n",
       "ML     -0.278830\n",
       "OR     -0.015888\n",
       "ORA     0.129422\n",
       "RI     -0.089614\n",
       "SAN     0.028063\n",
       "SGO    -0.096846\n",
       "SLB    -0.301136\n",
       "SU     -0.325757\n",
       "TTE    -0.195589\n",
       "VIE    -0.489902\n",
       "VIV    -0.288745\n",
       "Name: total_return, dtype: float64"
      ]
     },
     "execution_count": 19,
     "metadata": {},
     "output_type": "execute_result"
    }
   ],
   "source": [
    "pf_long.get_total_return()"
   ]
  },
  {
   "cell_type": "code",
   "execution_count": 15,
   "id": "796df45d-1a2d-47ec-ac28-a975361be20d",
   "metadata": {},
   "outputs": [
    {
     "data": {
      "application/vnd.jupyter.widget-view+json": {
       "model_id": "fb595ed014cc4e0d8922742fbcf113fc",
       "version_major": 2,
       "version_minor": 0
      },
      "text/plain": [
       "FigureWidget({\n",
       "    'data': [{'legendgroup': '0',\n",
       "              'line': {'color': '#1f77b4'},\n",
       "              'na…"
      ]
     },
     "metadata": {},
     "output_type": "display_data"
    }
   ],
   "source": [
    "pf_long.plot(column=0)"
   ]
  },
  {
   "cell_type": "code",
   "execution_count": 23,
   "id": "9718be22-1535-4245-b04e-cd379bd65119",
   "metadata": {},
   "outputs": [
    {
     "data": {
      "application/vnd.jupyter.widget-view+json": {
       "model_id": "a83c0b3773224c5da654496c3f29285a",
       "version_major": 2,
       "version_minor": 0
      },
      "text/plain": [
       "FigureWidget({\n",
       "    'data': [{'name': (\"('VBTMA', 'VBTSTOCHKAMA', 'VBT\" ... \"oth', 'long', 'macdbb', False)\"),\n",
       "…"
      ]
     },
     "metadata": {},
     "output_type": "display_data"
    }
   ],
   "source": [
    "st.macro_trend.vbt.plot()"
   ]
  },
  {
   "cell_type": "code",
   "execution_count": null,
   "id": "283ad825-46ee-4746-8f38-1da191f49137",
   "metadata": {},
   "outputs": [],
   "source": []
  },
  {
   "cell_type": "code",
   "execution_count": null,
   "id": "79dd3749-1ca9-4ecd-990a-04446bddbf77",
   "metadata": {},
   "outputs": [],
   "source": []
  },
  {
   "cell_type": "code",
   "execution_count": null,
   "id": "2c4e8df0-518c-4cac-bf17-1237367e48d1",
   "metadata": {},
   "outputs": [],
   "source": []
  }
 ],
 "metadata": {
  "kernelspec": {
   "display_name": "Python 3 (ipykernel)",
   "language": "python",
   "name": "python3"
  },
  "language_info": {
   "codemirror_mode": {
    "name": "ipython",
    "version": 3
   },
   "file_extension": ".py",
   "mimetype": "text/x-python",
   "name": "python",
   "nbconvert_exporter": "python",
   "pygments_lexer": "ipython3",
   "version": "3.8.10"
  }
 },
 "nbformat": 4,
 "nbformat_minor": 5
}
