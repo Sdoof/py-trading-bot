{
 "cells": [
  {
   "cell_type": "code",
   "execution_count": 1,
   "id": "1db8e4cf-165a-4d86-9eda-df0c3da1baeb",
   "metadata": {},
   "outputs": [],
   "source": [
    "## To check strategy and plot curves relative to recent data\n",
    "\n",
    "import vectorbtpro as vbt\n",
    "import numpy as np\n",
    "import pandas as pd\n",
    "\n",
    "import importlib\n",
    "import inspect\n",
    "from numba import njit\n",
    "import talib\n",
    "import math\n",
    "\n",
    "from core import stratL, indicators, constants\n",
    "\n"
   ]
  },
  {
   "cell_type": "code",
   "execution_count": 3,
   "id": "77eeedc5-6b6d-493e-b915-cf8a01020389",
   "metadata": {},
   "outputs": [
    {
     "data": {
      "text/plain": [
       "<module 'core.constants' from '/home/maxime/py-trading-bot/bot/core/constants.py'>"
      ]
     },
     "execution_count": 3,
     "metadata": {},
     "output_type": "execute_result"
    }
   ],
   "source": [
    "importlib.reload(stratL)\n",
    "importlib.reload(indicators)\n",
    "importlib.reload(constants)"
   ]
  },
  {
   "cell_type": "code",
   "execution_count": 6,
   "id": "fdc778bf-6517-41c4-926e-c6fea8a99ddb",
   "metadata": {},
   "outputs": [
    {
     "data": {
      "application/vnd.jupyter.widget-view+json": {
       "model_id": "8fdf8f3dcdd842f99f49bcd20e3fd7a7",
       "version_major": 2,
       "version_minor": 0
      },
      "text/plain": [
       "  0%|          | 0/2 [00:00<?, ?it/s]"
      ]
     },
     "metadata": {},
     "output_type": "display_data"
    },
    {
     "name": "stdout",
     "output_type": "stream",
     "text": [
      "number of days retrieved: 253\n"
     ]
    }
   ],
   "source": [
    "symbols=[\"^IXIC\"]\n",
    "#symbols=constants.cac40()\n",
    "#symbols=constants.dax()\n",
    "#symbols=constants.nasdaq()\n",
    "\n",
    "period=\"1y\"\n",
    "#index_symbol=\"^FCHI\"\n",
    "#index_symbol=\"^GDAXI\"\n",
    "index_symbol=\"^IXIC\"\n",
    "\n",
    "st=stratL.StratLIVE(symbols,period,index_symbol)"
   ]
  },
  {
   "cell_type": "code",
   "execution_count": 7,
   "id": "f1a6406a-bafd-4456-a2af-13d1d4f124fb",
   "metadata": {},
   "outputs": [
    {
     "data": {
      "text/plain": [
       "Start                        2021-06-22 00:00:00+00:00\n",
       "End                          2022-06-22 00:00:00+00:00\n",
       "Period                               253 days 00:00:00\n",
       "Total Return [%]                             38.737956\n",
       "Benchmark Return [%]                        -21.747943\n",
       "Annualized Return [%]                          38.6139\n",
       "Annualized Volatility [%]                    30.008933\n",
       "Max Drawdown [%]                             13.997972\n",
       "Max Drawdown Duration                102 days 00:00:00\n",
       "Sharpe Ratio                                  1.724104\n",
       "Calmar Ratio                                  2.758535\n",
       "Omega Ratio                                   1.282996\n",
       "Sortino Ratio                                 2.712172\n",
       "Skew                                          0.175666\n",
       "Kurtosis                                      0.356555\n",
       "Tail Ratio                                    1.390495\n",
       "Common Sense Ratio                            1.927419\n",
       "Value at Risk                                -0.023069\n",
       "Alpha                                         0.751322\n",
       "Beta                                          0.142906\n",
       "Name: agg_stats, dtype: object"
      ]
     },
     "execution_count": 7,
     "metadata": {},
     "output_type": "execute_result"
    }
   ],
   "source": [
    "###No trend ###\n",
    "#st.strat_kama_stoch(macro_trend_uncertain=\"both\")\n",
    "#st.strat_pattern_light(macro_trend_uncertain=\"both\")\n",
    "\n",
    "### Trend ###\n",
    "#st.strat_kama_stoch_matrend_bbands()\n",
    "#st.strat_kama_stoch_super_bbands()\n",
    "#st.strat_kama_stoch_matrend_macdbb()\n",
    "#st.strat_kama_stoch_super_macdbb()\n",
    "#st.strat_pattern_light_matrend_bbands()\n",
    "#st.strat_pattern_light_super_bbands()\n",
    "#st.strat_pattern_light_matrend_macdbb()\n",
    "#st.strat_pattern_light_super_macdbb()\n",
    "\n",
    "#st.strat_careful_super_bbands()\n",
    "\n",
    "### Macro trend ###\n",
    "#st.strat_kama_stoch_matrend_bbands_macro(macro_trend_bull=\"long\",macro_trend_uncertain=\"both\",macro_trend_bear=\"both\") # macro_trend_index=True\n",
    "st.strat_kama_stoch_matrend_macdbb_macro(macro_trend_bull=\"long\",macro_trend_uncertain=\"both\",macro_trend_bear=\"both\")\n",
    "#st.strat_kama_stoch_macro(macro_trend_bull=\"long\",macro_trend_uncertain=\"long\",macro_trend_bear=\"both\")\n",
    "#st.strat_pattern_light_macro(macro_trend_bull=\"long\",macro_trend_uncertain=\"both\",macro_trend_bear=\"both\")\n",
    "\n",
    "pf=vbt.Portfolio.from_signals(st.close, st.entries,st.exits,short_entries=st.entries_short,short_exits  =st.exits_short,freq=\"1d\")\n",
    "pf.returns_stats()\n"
   ]
  },
  {
   "cell_type": "code",
   "execution_count": 8,
   "id": "dd517b6e-3f86-4332-87f2-f42793bef2b1",
   "metadata": {},
   "outputs": [
    {
     "data": {
      "application/vnd.jupyter.widget-view+json": {
       "model_id": "712d51b37c704208ba2c66c09c527bd1",
       "version_major": 2,
       "version_minor": 0
      },
      "text/plain": [
       "FigureWidget({\n",
       "    'data': [{'legendgroup': '0',\n",
       "              'line': {'color': '#1f77b4'},\n",
       "              'na…"
      ]
     },
     "metadata": {},
     "output_type": "display_data"
    }
   ],
   "source": [
    "pf.plot()"
   ]
  },
  {
   "cell_type": "code",
   "execution_count": 4,
   "id": "1818b7aa-39af-42f9-8f41-1713d3470690",
   "metadata": {},
   "outputs": [],
   "source": [
    "k=indicators.VBTKAMA.run(st.close)\n",
    "kama=k.kama"
   ]
  },
  {
   "cell_type": "code",
   "execution_count": 5,
   "id": "369b2df1-0fb6-4885-ac47-71c46d9ce011",
   "metadata": {},
   "outputs": [
    {
     "data": {
      "application/vnd.jupyter.widget-view+json": {
       "model_id": "8f5174c3a0554f07877438ed1e641ecd",
       "version_major": 2,
       "version_minor": 0
      },
      "text/plain": [
       "FigureWidget({\n",
       "    'data': [{'name': '^FCHI',\n",
       "              'showlegend': True,\n",
       "              'type': 'scatter…"
      ]
     },
     "metadata": {},
     "output_type": "display_data"
    }
   ],
   "source": [
    "kama.vbt.plot()"
   ]
  },
  {
   "cell_type": "code",
   "execution_count": 6,
   "id": "61d025a6-d568-40c0-9ae0-ae0940cca328",
   "metadata": {},
   "outputs": [
    {
     "data": {
      "text/html": [
       "<div>\n",
       "<style scoped>\n",
       "    .dataframe tbody tr th:only-of-type {\n",
       "        vertical-align: middle;\n",
       "    }\n",
       "\n",
       "    .dataframe tbody tr th {\n",
       "        vertical-align: top;\n",
       "    }\n",
       "\n",
       "    .dataframe thead th {\n",
       "        text-align: right;\n",
       "    }\n",
       "</style>\n",
       "<table border=\"1\" class=\"dataframe\">\n",
       "  <thead>\n",
       "    <tr style=\"text-align: right;\">\n",
       "      <th>symbol</th>\n",
       "      <th>^FCHI</th>\n",
       "    </tr>\n",
       "    <tr>\n",
       "      <th>Date</th>\n",
       "      <th></th>\n",
       "    </tr>\n",
       "  </thead>\n",
       "  <tbody>\n",
       "    <tr>\n",
       "      <th>2022-06-07 00:00:00+00:00</th>\n",
       "      <td>False</td>\n",
       "    </tr>\n",
       "    <tr>\n",
       "      <th>2022-06-08 00:00:00+00:00</th>\n",
       "      <td>False</td>\n",
       "    </tr>\n",
       "    <tr>\n",
       "      <th>2022-06-09 00:00:00+00:00</th>\n",
       "      <td>False</td>\n",
       "    </tr>\n",
       "    <tr>\n",
       "      <th>2022-06-10 00:00:00+00:00</th>\n",
       "      <td>False</td>\n",
       "    </tr>\n",
       "    <tr>\n",
       "      <th>2022-06-13 00:00:00+00:00</th>\n",
       "      <td>False</td>\n",
       "    </tr>\n",
       "    <tr>\n",
       "      <th>2022-06-14 00:00:00+00:00</th>\n",
       "      <td>False</td>\n",
       "    </tr>\n",
       "    <tr>\n",
       "      <th>2022-06-15 00:00:00+00:00</th>\n",
       "      <td>False</td>\n",
       "    </tr>\n",
       "    <tr>\n",
       "      <th>2022-06-16 00:00:00+00:00</th>\n",
       "      <td>False</td>\n",
       "    </tr>\n",
       "    <tr>\n",
       "      <th>2022-06-17 00:00:00+00:00</th>\n",
       "      <td>False</td>\n",
       "    </tr>\n",
       "    <tr>\n",
       "      <th>2022-06-20 00:00:00+00:00</th>\n",
       "      <td>False</td>\n",
       "    </tr>\n",
       "  </tbody>\n",
       "</table>\n",
       "</div>"
      ],
      "text/plain": [
       "symbol                     ^FCHI\n",
       "Date                            \n",
       "2022-06-07 00:00:00+00:00  False\n",
       "2022-06-08 00:00:00+00:00  False\n",
       "2022-06-09 00:00:00+00:00  False\n",
       "2022-06-10 00:00:00+00:00  False\n",
       "2022-06-13 00:00:00+00:00  False\n",
       "2022-06-14 00:00:00+00:00  False\n",
       "2022-06-15 00:00:00+00:00  False\n",
       "2022-06-16 00:00:00+00:00  False\n",
       "2022-06-17 00:00:00+00:00  False\n",
       "2022-06-20 00:00:00+00:00  False"
      ]
     },
     "execution_count": 6,
     "metadata": {},
     "output_type": "execute_result"
    }
   ],
   "source": [
    "k.bot_ext.tail(10)"
   ]
  },
  {
   "cell_type": "code",
   "execution_count": 20,
   "id": "a7c03e03-1a94-4730-9de5-14bb108a04fd",
   "metadata": {},
   "outputs": [],
   "source": [
    "bti=stratL.btLIVE(\"long\",st=st)\n",
    "#bti.preselect_vol()\n",
    "#bti.preselect_retard()\n",
    "#bti.preselect_macd_vol()\n",
    "#bti.preselect_hist_vol()\n",
    "#bti.preselect_divergence()\n",
    "\n",
    "### Macro ###\n",
    "#bti.preselect_macd_vol_macro() #macro_trend_index=True\n",
    "#bti.preselect_retard_macro()\n",
    "bti.preselect_realmadrid()"
   ]
  },
  {
   "cell_type": "code",
   "execution_count": 21,
   "id": "ef405cb6-6d6b-4e4b-acc6-8092dd837850",
   "metadata": {},
   "outputs": [
    {
     "data": {
      "text/plain": [
       "Start                        2021-06-22 00:00:00+00:00\n",
       "End                          2022-06-22 00:00:00+00:00\n",
       "Period                               253 days 00:00:00\n",
       "Total Return [%]                             -5.541511\n",
       "Benchmark Return [%]                        -21.747943\n",
       "Annualized Return [%]                        -5.526796\n",
       "Annualized Volatility [%]                    27.418061\n",
       "Max Drawdown [%]                             25.193499\n",
       "Max Drawdown Duration                155 days 00:00:00\n",
       "Sharpe Ratio                                 -0.162817\n",
       "Calmar Ratio                                 -0.219374\n",
       "Omega Ratio                                   0.972192\n",
       "Sortino Ratio                                -0.219674\n",
       "Skew                                          -0.38272\n",
       "Kurtosis                                       1.93668\n",
       "Tail Ratio                                    1.048829\n",
       "Common Sense Ratio                            0.990862\n",
       "Value at Risk                                -0.025557\n",
       "Alpha                                         0.202804\n",
       "Beta                                          0.754897\n",
       "Name: group, dtype: object"
      ]
     },
     "execution_count": 21,
     "metadata": {},
     "output_type": "execute_result"
    }
   ],
   "source": [
    "pf=vbt.Portfolio.from_signals(bti.close, bti.entries,bti.exits,short_entries=bti.entries_short,short_exits  =bti.exits_short,freq=\"1d\",\n",
    "                            call_seq='auto',cash_sharing=True,\n",
    "                             )\n",
    "pf.returns_stats()"
   ]
  },
  {
   "cell_type": "code",
   "execution_count": 22,
   "id": "aa957c62-7f2b-4e19-b8d4-98d8cfa3aae9",
   "metadata": {},
   "outputs": [
    {
     "name": "stderr",
     "output_type": "stream",
     "text": [
      "/home/maxime/.local/lib/python3.8/site-packages/vectorbtpro/generic/plots_builder.py:396: UserWarning:\n",
      "\n",
      "Subplot 'orders' does not support grouped data\n",
      "\n",
      "/home/maxime/.local/lib/python3.8/site-packages/vectorbtpro/generic/plots_builder.py:396: UserWarning:\n",
      "\n",
      "Subplot 'trade_pnl' does not support grouped data\n",
      "\n"
     ]
    },
    {
     "data": {
      "application/vnd.jupyter.widget-view+json": {
       "model_id": "6dae5573d7b14b32a9b233587abbeb99",
       "version_major": 2,
       "version_minor": 0
      },
      "text/plain": [
       "FigureWidget({\n",
       "    'data': [{'legendgroup': '0',\n",
       "              'line': {'color': '#7f7f7f'},\n",
       "              'na…"
      ]
     },
     "metadata": {},
     "output_type": "display_data"
    }
   ],
   "source": [
    "pf.plot()"
   ]
  },
  {
   "cell_type": "code",
   "execution_count": 23,
   "id": "412a409e-62d6-4b45-9dd2-0f68a6e75156",
   "metadata": {},
   "outputs": [
    {
     "data": {
      "text/html": [
       "<div>\n",
       "<style scoped>\n",
       "    .dataframe tbody tr th:only-of-type {\n",
       "        vertical-align: middle;\n",
       "    }\n",
       "\n",
       "    .dataframe tbody tr th {\n",
       "        vertical-align: top;\n",
       "    }\n",
       "\n",
       "    .dataframe thead th {\n",
       "        text-align: right;\n",
       "    }\n",
       "</style>\n",
       "<table border=\"1\" class=\"dataframe\">\n",
       "  <thead>\n",
       "    <tr style=\"text-align: right;\">\n",
       "      <th></th>\n",
       "      <th>id</th>\n",
       "      <th>col</th>\n",
       "      <th>size</th>\n",
       "      <th>entry_idx</th>\n",
       "      <th>entry_price</th>\n",
       "      <th>entry_fees</th>\n",
       "      <th>exit_idx</th>\n",
       "      <th>exit_price</th>\n",
       "      <th>exit_fees</th>\n",
       "      <th>pnl</th>\n",
       "      <th>return</th>\n",
       "      <th>direction</th>\n",
       "      <th>status</th>\n",
       "      <th>parent_id</th>\n",
       "    </tr>\n",
       "  </thead>\n",
       "  <tbody>\n",
       "    <tr>\n",
       "      <th>0</th>\n",
       "      <td>0</td>\n",
       "      <td>0</td>\n",
       "      <td>0.006749</td>\n",
       "      <td>36</td>\n",
       "      <td>14816.259766</td>\n",
       "      <td>0.0</td>\n",
       "      <td>39</td>\n",
       "      <td>14656.179688</td>\n",
       "      <td>0.0</td>\n",
       "      <td>-1.080435</td>\n",
       "      <td>-0.010804</td>\n",
       "      <td>0</td>\n",
       "      <td>1</td>\n",
       "      <td>0</td>\n",
       "    </tr>\n",
       "    <tr>\n",
       "      <th>1</th>\n",
       "      <td>1</td>\n",
       "      <td>0</td>\n",
       "      <td>0.006802</td>\n",
       "      <td>41</td>\n",
       "      <td>14541.790039</td>\n",
       "      <td>0.0</td>\n",
       "      <td>56</td>\n",
       "      <td>15115.490234</td>\n",
       "      <td>0.0</td>\n",
       "      <td>3.902558</td>\n",
       "      <td>0.039452</td>\n",
       "      <td>0</td>\n",
       "      <td>1</td>\n",
       "      <td>1</td>\n",
       "    </tr>\n",
       "    <tr>\n",
       "      <th>2</th>\n",
       "      <td>2</td>\n",
       "      <td>0</td>\n",
       "      <td>0.006973</td>\n",
       "      <td>63</td>\n",
       "      <td>14746.400391</td>\n",
       "      <td>0.0</td>\n",
       "      <td>67</td>\n",
       "      <td>14969.969727</td>\n",
       "      <td>0.0</td>\n",
       "      <td>1.558880</td>\n",
       "      <td>0.015161</td>\n",
       "      <td>0</td>\n",
       "      <td>1</td>\n",
       "      <td>2</td>\n",
       "    </tr>\n",
       "    <tr>\n",
       "      <th>3</th>\n",
       "      <td>3</td>\n",
       "      <td>0</td>\n",
       "      <td>0.007193</td>\n",
       "      <td>69</td>\n",
       "      <td>14512.440430</td>\n",
       "      <td>0.0</td>\n",
       "      <td>99</td>\n",
       "      <td>15622.709961</td>\n",
       "      <td>0.0</td>\n",
       "      <td>7.985635</td>\n",
       "      <td>0.076505</td>\n",
       "      <td>0</td>\n",
       "      <td>1</td>\n",
       "      <td>3</td>\n",
       "    </tr>\n",
       "    <tr>\n",
       "      <th>4</th>\n",
       "      <td>4</td>\n",
       "      <td>0</td>\n",
       "      <td>0.007120</td>\n",
       "      <td>111</td>\n",
       "      <td>15782.830078</td>\n",
       "      <td>0.0</td>\n",
       "      <td>119</td>\n",
       "      <td>15517.370117</td>\n",
       "      <td>0.0</td>\n",
       "      <td>-1.889955</td>\n",
       "      <td>-0.016820</td>\n",
       "      <td>0</td>\n",
       "      <td>1</td>\n",
       "      <td>4</td>\n",
       "    </tr>\n",
       "    <tr>\n",
       "      <th>5</th>\n",
       "      <td>5</td>\n",
       "      <td>0</td>\n",
       "      <td>0.007058</td>\n",
       "      <td>129</td>\n",
       "      <td>15653.370117</td>\n",
       "      <td>0.0</td>\n",
       "      <td>134</td>\n",
       "      <td>15644.969727</td>\n",
       "      <td>0.0</td>\n",
       "      <td>-0.059287</td>\n",
       "      <td>-0.000537</td>\n",
       "      <td>0</td>\n",
       "      <td>1</td>\n",
       "      <td>5</td>\n",
       "    </tr>\n",
       "    <tr>\n",
       "      <th>6</th>\n",
       "      <td>6</td>\n",
       "      <td>0</td>\n",
       "      <td>0.006974</td>\n",
       "      <td>135</td>\n",
       "      <td>15832.799805</td>\n",
       "      <td>0.0</td>\n",
       "      <td>136</td>\n",
       "      <td>15622.719727</td>\n",
       "      <td>0.0</td>\n",
       "      <td>-1.465091</td>\n",
       "      <td>-0.013269</td>\n",
       "      <td>0</td>\n",
       "      <td>1</td>\n",
       "      <td>6</td>\n",
       "    </tr>\n",
       "    <tr>\n",
       "      <th>7</th>\n",
       "      <td>7</td>\n",
       "      <td>0</td>\n",
       "      <td>0.007295</td>\n",
       "      <td>139</td>\n",
       "      <td>14935.900391</td>\n",
       "      <td>0.0</td>\n",
       "      <td>163</td>\n",
       "      <td>13791.150391</td>\n",
       "      <td>0.0</td>\n",
       "      <td>-8.350561</td>\n",
       "      <td>-0.076644</td>\n",
       "      <td>0</td>\n",
       "      <td>1</td>\n",
       "      <td>7</td>\n",
       "    </tr>\n",
       "    <tr>\n",
       "      <th>8</th>\n",
       "      <td>8</td>\n",
       "      <td>0</td>\n",
       "      <td>0.007518</td>\n",
       "      <td>169</td>\n",
       "      <td>13381.519531</td>\n",
       "      <td>0.0</td>\n",
       "      <td>190</td>\n",
       "      <td>13922.599609</td>\n",
       "      <td>0.0</td>\n",
       "      <td>4.067819</td>\n",
       "      <td>0.040435</td>\n",
       "      <td>0</td>\n",
       "      <td>1</td>\n",
       "      <td>8</td>\n",
       "    </tr>\n",
       "    <tr>\n",
       "      <th>9</th>\n",
       "      <td>9</td>\n",
       "      <td>0</td>\n",
       "      <td>0.007634</td>\n",
       "      <td>202</td>\n",
       "      <td>13711.000000</td>\n",
       "      <td>0.0</td>\n",
       "      <td>240</td>\n",
       "      <td>12012.730469</td>\n",
       "      <td>0.0</td>\n",
       "      <td>-12.964563</td>\n",
       "      <td>-0.123862</td>\n",
       "      <td>0</td>\n",
       "      <td>1</td>\n",
       "      <td>9</td>\n",
       "    </tr>\n",
       "    <tr>\n",
       "      <th>10</th>\n",
       "      <td>10</td>\n",
       "      <td>0</td>\n",
       "      <td>0.008469</td>\n",
       "      <td>247</td>\n",
       "      <td>10828.349609</td>\n",
       "      <td>0.0</td>\n",
       "      <td>252</td>\n",
       "      <td>11153.476562</td>\n",
       "      <td>0.0</td>\n",
       "      <td>2.753491</td>\n",
       "      <td>0.030026</td>\n",
       "      <td>0</td>\n",
       "      <td>0</td>\n",
       "      <td>10</td>\n",
       "    </tr>\n",
       "  </tbody>\n",
       "</table>\n",
       "</div>"
      ],
      "text/plain": [
       "    id  col      size  entry_idx   entry_price  entry_fees  exit_idx  \\\n",
       "0    0    0  0.006749         36  14816.259766         0.0        39   \n",
       "1    1    0  0.006802         41  14541.790039         0.0        56   \n",
       "2    2    0  0.006973         63  14746.400391         0.0        67   \n",
       "3    3    0  0.007193         69  14512.440430         0.0        99   \n",
       "4    4    0  0.007120        111  15782.830078         0.0       119   \n",
       "5    5    0  0.007058        129  15653.370117         0.0       134   \n",
       "6    6    0  0.006974        135  15832.799805         0.0       136   \n",
       "7    7    0  0.007295        139  14935.900391         0.0       163   \n",
       "8    8    0  0.007518        169  13381.519531         0.0       190   \n",
       "9    9    0  0.007634        202  13711.000000         0.0       240   \n",
       "10  10    0  0.008469        247  10828.349609         0.0       252   \n",
       "\n",
       "      exit_price  exit_fees        pnl    return  direction  status  parent_id  \n",
       "0   14656.179688        0.0  -1.080435 -0.010804          0       1          0  \n",
       "1   15115.490234        0.0   3.902558  0.039452          0       1          1  \n",
       "2   14969.969727        0.0   1.558880  0.015161          0       1          2  \n",
       "3   15622.709961        0.0   7.985635  0.076505          0       1          3  \n",
       "4   15517.370117        0.0  -1.889955 -0.016820          0       1          4  \n",
       "5   15644.969727        0.0  -0.059287 -0.000537          0       1          5  \n",
       "6   15622.719727        0.0  -1.465091 -0.013269          0       1          6  \n",
       "7   13791.150391        0.0  -8.350561 -0.076644          0       1          7  \n",
       "8   13922.599609        0.0   4.067819  0.040435          0       1          8  \n",
       "9   12012.730469        0.0 -12.964563 -0.123862          0       1          9  \n",
       "10  11153.476562        0.0   2.753491  0.030026          0       0         10  "
      ]
     },
     "execution_count": 23,
     "metadata": {},
     "output_type": "execute_result"
    }
   ],
   "source": [
    "pf.trades.records.sort_values([\"entry_idx\"], ascending=True).head(50)"
   ]
  },
  {
   "cell_type": "code",
   "execution_count": 14,
   "id": "78e80703-f8f3-4884-8653-436df50efa37",
   "metadata": {},
   "outputs": [
    {
     "data": {
      "application/vnd.jupyter.widget-view+json": {
       "model_id": "23540c2c23814574a0dd11f6d9bd5150",
       "version_major": 2,
       "version_minor": 0
      },
      "text/plain": [
       "FigureWidget({\n",
       "    'data': [{'name': '^IXIC',\n",
       "              'showlegend': True,\n",
       "              'type': 'scatter…"
      ]
     },
     "metadata": {},
     "output_type": "display_data"
    }
   ],
   "source": [
    "bti.macro_trend.vbt.plot()"
   ]
  },
  {
   "cell_type": "code",
   "execution_count": 43,
   "id": "c2042b95-e705-40de-9b8c-90eb31376e0c",
   "metadata": {},
   "outputs": [
    {
     "data": {
      "application/vnd.jupyter.widget-view+json": {
       "model_id": "3cfb63f4019e4a27b66349059d3a500d",
       "version_major": 2,
       "version_minor": 0
      },
      "text/plain": [
       "FigureWidget({\n",
       "    'data': [{'name': 'Close',\n",
       "              'showlegend': True,\n",
       "              'type': 'scatter…"
      ]
     },
     "metadata": {},
     "output_type": "display_data"
    }
   ],
   "source": [
    "bti.close_ind.vbt.plot()"
   ]
  },
  {
   "cell_type": "code",
   "execution_count": 61,
   "id": "fad2cd36-e6da-460d-8360-d30ff402146d",
   "metadata": {},
   "outputs": [],
   "source": [
    "wq=stratL.WQLIVE(54,st=st)"
   ]
  },
  {
   "cell_type": "code",
   "execution_count": 62,
   "id": "731813f1-2ac0-4f94-ba31-967a15aa2155",
   "metadata": {},
   "outputs": [
    {
     "data": {
      "text/plain": [
       "Start                        2021-06-18 00:00:00+00:00\n",
       "End                          2022-06-17 00:00:00+00:00\n",
       "Period                               253 days 00:00:00\n",
       "Total Return [%]                             29.969459\n",
       "Benchmark Return [%]                        -19.003565\n",
       "Annualized Return [%]                        29.969459\n",
       "Annualized Volatility [%]                    54.640427\n",
       "Max Drawdown [%]                             30.567149\n",
       "Max Drawdown Duration                 85 days 00:00:00\n",
       "Sharpe Ratio                                  0.961894\n",
       "Calmar Ratio                                  0.980447\n",
       "Omega Ratio                                   1.172969\n",
       "Sortino Ratio                                 1.478857\n",
       "Skew                                           0.61717\n",
       "Kurtosis                                      5.779702\n",
       "Tail Ratio                                    1.130385\n",
       "Common Sense Ratio                            1.469156\n",
       "Value at Risk                                -0.038779\n",
       "Alpha                                         1.109876\n",
       "Beta                                          0.856632\n",
       "Name: group, dtype: object"
      ]
     },
     "execution_count": 62,
     "metadata": {},
     "output_type": "execute_result"
    }
   ],
   "source": [
    "wq.def_cand()\n",
    "wq.calculate(nostrat11=True) #only_exit_strat11=True\n",
    "\n",
    "\n",
    "pf=vbt.Portfolio.from_signals(wq.close, wq.entries,wq.exits,short_entries=wq.entries_short,short_exits  =wq.exits_short,freq=\"1d\",\n",
    "                            call_seq='auto',cash_sharing=True#, fees=0.0005\n",
    "                             )\n",
    "pf.returns_stats()"
   ]
  },
  {
   "cell_type": "code",
   "execution_count": 56,
   "id": "a92dde6e-ebde-45dd-bc15-a1f451f0f7ba",
   "metadata": {},
   "outputs": [
    {
     "data": {
      "application/vnd.jupyter.widget-view+json": {
       "model_id": "d6af5be6bb794ac7854813d0a6f528c4",
       "version_major": 2,
       "version_minor": 0
      },
      "text/plain": [
       "FigureWidget({\n",
       "    'data': [{'legendgroup': '0',\n",
       "              'line': {'color': '#7f7f7f'},\n",
       "              'na…"
      ]
     },
     "metadata": {},
     "output_type": "display_data"
    }
   ],
   "source": [
    "pf.plot()"
   ]
  },
  {
   "cell_type": "code",
   "execution_count": null,
   "id": "0d350424-6533-47d6-90ea-ded9e06027ea",
   "metadata": {},
   "outputs": [],
   "source": []
  }
 ],
 "metadata": {
  "kernelspec": {
   "display_name": "Python 3 (ipykernel)",
   "language": "python",
   "name": "python3"
  },
  "language_info": {
   "codemirror_mode": {
    "name": "ipython",
    "version": 3
   },
   "file_extension": ".py",
   "mimetype": "text/x-python",
   "name": "python",
   "nbconvert_exporter": "python",
   "pygments_lexer": "ipython3",
   "version": "3.8.10"
  }
 },
 "nbformat": 4,
 "nbformat_minor": 5
}
